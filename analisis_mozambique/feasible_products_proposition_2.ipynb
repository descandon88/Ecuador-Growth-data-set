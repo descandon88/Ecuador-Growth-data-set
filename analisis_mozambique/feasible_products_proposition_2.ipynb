{
  "cells": [
    {
      "cell_type": "markdown",
      "metadata": {
        "id": "view-in-github",
        "colab_type": "text"
      },
      "source": [
        "<a href=\"https://colab.research.google.com/github/descandon88/tesis_maestria/blob/main/analisis_mozambique/feasible_products_proposition_2.ipynb\" target=\"_parent\"><img src=\"https://colab.research.google.com/assets/colab-badge.svg\" alt=\"Open In Colab\"/></a>"
      ]
    },
    {
      "cell_type": "code",
      "execution_count": null,
      "metadata": {
        "id": "6Isicp7DOpc4",
        "outputId": "eb704b94-ce26-4c47-c80a-862c8a5fdc4e",
        "colab": {
          "base_uri": "https://localhost:8080/"
        }
      },
      "outputs": [
        {
          "output_type": "stream",
          "name": "stdout",
          "text": [
            "Looking in indexes: https://pypi.org/simple, https://us-python.pkg.dev/colab-wheels/public/simple/\n",
            "Collecting geopandas\n",
            "  Downloading geopandas-0.12.2-py3-none-any.whl (1.1 MB)\n",
            "\u001b[2K     \u001b[90m━━━━━━━━━━━━━━━━━━━━━━━━━━━━━━━━━━━━━━━━\u001b[0m \u001b[32m1.1/1.1 MB\u001b[0m \u001b[31m12.9 MB/s\u001b[0m eta \u001b[36m0:00:00\u001b[0m\n",
            "\u001b[?25hRequirement already satisfied: pandas>=1.0.0 in /usr/local/lib/python3.9/dist-packages (from geopandas) (1.5.3)\n",
            "Requirement already satisfied: shapely>=1.7 in /usr/local/lib/python3.9/dist-packages (from geopandas) (2.0.1)\n",
            "Requirement already satisfied: packaging in /usr/local/lib/python3.9/dist-packages (from geopandas) (23.1)\n",
            "Collecting pyproj>=2.6.1.post1\n",
            "  Downloading pyproj-3.5.0-cp39-cp39-manylinux_2_17_x86_64.manylinux2014_x86_64.whl (7.8 MB)\n",
            "\u001b[2K     \u001b[90m━━━━━━━━━━━━━━━━━━━━━━━━━━━━━━━━━━━━━━━━\u001b[0m \u001b[32m7.8/7.8 MB\u001b[0m \u001b[31m50.6 MB/s\u001b[0m eta \u001b[36m0:00:00\u001b[0m\n",
            "\u001b[?25hCollecting fiona>=1.8\n",
            "  Downloading Fiona-1.9.3-cp39-cp39-manylinux_2_17_x86_64.manylinux2014_x86_64.whl (16.1 MB)\n",
            "\u001b[2K     \u001b[90m━━━━━━━━━━━━━━━━━━━━━━━━━━━━━━━━━━━━━━━━\u001b[0m \u001b[32m16.1/16.1 MB\u001b[0m \u001b[31m35.4 MB/s\u001b[0m eta \u001b[36m0:00:00\u001b[0m\n",
            "\u001b[?25hCollecting munch>=2.3.2\n",
            "  Downloading munch-2.5.0-py2.py3-none-any.whl (10 kB)\n",
            "Collecting click-plugins>=1.0\n",
            "  Downloading click_plugins-1.1.1-py2.py3-none-any.whl (7.5 kB)\n",
            "Collecting cligj>=0.5\n",
            "  Downloading cligj-0.7.2-py3-none-any.whl (7.1 kB)\n",
            "Requirement already satisfied: importlib-metadata in /usr/local/lib/python3.9/dist-packages (from fiona>=1.8->geopandas) (6.4.1)\n",
            "Requirement already satisfied: certifi in /usr/local/lib/python3.9/dist-packages (from fiona>=1.8->geopandas) (2022.12.7)\n",
            "Requirement already satisfied: click~=8.0 in /usr/local/lib/python3.9/dist-packages (from fiona>=1.8->geopandas) (8.1.3)\n",
            "Requirement already satisfied: attrs>=19.2.0 in /usr/local/lib/python3.9/dist-packages (from fiona>=1.8->geopandas) (23.1.0)\n",
            "Requirement already satisfied: python-dateutil>=2.8.1 in /usr/local/lib/python3.9/dist-packages (from pandas>=1.0.0->geopandas) (2.8.2)\n",
            "Requirement already satisfied: pytz>=2020.1 in /usr/local/lib/python3.9/dist-packages (from pandas>=1.0.0->geopandas) (2022.7.1)\n",
            "Requirement already satisfied: numpy>=1.20.3 in /usr/local/lib/python3.9/dist-packages (from pandas>=1.0.0->geopandas) (1.22.4)\n",
            "Requirement already satisfied: six in /usr/local/lib/python3.9/dist-packages (from munch>=2.3.2->fiona>=1.8->geopandas) (1.16.0)\n",
            "Requirement already satisfied: zipp>=0.5 in /usr/local/lib/python3.9/dist-packages (from importlib-metadata->fiona>=1.8->geopandas) (3.15.0)\n",
            "Installing collected packages: pyproj, munch, cligj, click-plugins, fiona, geopandas\n",
            "Successfully installed click-plugins-1.1.1 cligj-0.7.2 fiona-1.9.3 geopandas-0.12.2 munch-2.5.0 pyproj-3.5.0\n",
            "librerías cargadas\n",
            "Looking in indexes: https://pypi.org/simple, https://us-python.pkg.dev/colab-wheels/public/simple/\n",
            "Collecting deepdiff\n",
            "  Downloading deepdiff-6.3.0-py3-none-any.whl (69 kB)\n",
            "\u001b[2K     \u001b[90m━━━━━━━━━━━━━━━━━━━━━━━━━━━━━━━━━━━━━━━━\u001b[0m \u001b[32m69.7/69.7 kB\u001b[0m \u001b[31m2.8 MB/s\u001b[0m eta \u001b[36m0:00:00\u001b[0m\n",
            "\u001b[?25hCollecting ordered-set<4.2.0,>=4.0.2\n",
            "  Downloading ordered_set-4.1.0-py3-none-any.whl (7.6 kB)\n",
            "Installing collected packages: ordered-set, deepdiff\n",
            "Successfully installed deepdiff-6.3.0 ordered-set-4.1.0\n"
          ]
        }
      ],
      "source": [
        "import pandas as pd\n",
        "import numpy as np\n",
        "import matplotlib.pyplot as plt\n",
        "\n",
        "import warnings\n",
        "warnings.filterwarnings(\"ignore\")\n",
        "import os\n",
        "import pandas as pd\n",
        "import numpy as np\n",
        "# Librerías para visualizacion\n",
        "import matplotlib.pyplot as plt\n",
        "import matplotlib.colors as colors\n",
        "from matplotlib import cm\n",
        "import re\n",
        "import networkx as nx\n",
        "from itertools import count\n",
        "from itertools import combinations\n",
        "from itertools import product\n",
        "import statsmodels.api as sm\n",
        "import urllib.request, json\n",
        "!pip3 install geopandas\n",
        "import geopandas\n",
        "# -- set scientific notation to display numbers fully rather than exponential\n",
        "pd.set_option('display.float_format', '{:.2f}'.format)\n",
        "from IPython.core.interactiveshell import InteractiveShell\n",
        "InteractiveShell.ast_node_interactivity = 'all' \n",
        "import seaborn as sns\n",
        "sns.set_style('whitegrid') # grids en dark background\n",
        "\n",
        "pd.set_option('display.max_columns', 500)\n",
        "pd.set_option('display.width', 100000)\n",
        "pd.set_option('display.max_rows', 500)\n",
        "pd.set_option('display.max_colwidth',300)\n",
        "print('librerías cargadas')\n",
        "\n",
        "!pip install deepdiff"
      ]
    },
    {
      "cell_type": "markdown",
      "source": [
        "# Importacion de la bases desde drive\n",
        "\n"
      ],
      "metadata": {
        "id": "Gexqdzw-6xOB"
      }
    },
    {
      "cell_type": "markdown",
      "source": [
        "Se importa la base desde drive"
      ],
      "metadata": {
        "id": "JKWMwJ-oPlRF"
      }
    },
    {
      "cell_type": "code",
      "execution_count": null,
      "metadata": {
        "id": "APR3b-BlOpc8",
        "outputId": "bf820ac3-0d0c-4203-e06c-b3e1602285ed",
        "colab": {
          "base_uri": "https://localhost:8080/"
        }
      },
      "outputs": [
        {
          "output_type": "stream",
          "name": "stdout",
          "text": [
            "Mounted at /content/drive\n"
          ]
        }
      ],
      "source": [
        "from google.colab import drive\n",
        "drive.mount(\"/content/drive\")"
      ]
    },
    {
      "cell_type": "code",
      "source": [
        "## Se importa la base de exportaciones de productos drive\n",
        "df_base = pd.read_csv(\"/content/drive/MyDrive/eci/base/df_updated.csv\")\n",
        "df_short_name = pd.read_csv(\"/content/drive/MyDrive/eci/base/df_tipo_pro.csv\")\n",
        "df_gdp_pc = pd.read_csv(\"/content/drive/MyDrive/eci/base/gpd_per_capita_countries_db.csv\")\n",
        "\n",
        "print('dataframes cargados')"
      ],
      "metadata": {
        "id": "Q-KGDyBG6SdT",
        "outputId": "b9649d55-0c7e-44bc-acd8-cb647fef5868",
        "colab": {
          "base_uri": "https://localhost:8080/"
        }
      },
      "execution_count": null,
      "outputs": [
        {
          "output_type": "stream",
          "name": "stdout",
          "text": [
            "dataframes cargados\n"
          ]
        }
      ]
    },
    {
      "cell_type": "code",
      "source": [
        "df_base.describe()"
      ],
      "metadata": {
        "colab": {
          "base_uri": "https://localhost:8080/",
          "height": 300
        },
        "id": "JO6x-YX4-SeF",
        "outputId": "fd5a3a0c-9b04-4cf0-8b89-b09f1c87af5b"
      },
      "execution_count": null,
      "outputs": [
        {
          "output_type": "execute_result",
          "data": {
            "text/plain": [
              "            year  product_code    export_value\n",
              "count 7373271.00    7373271.00      7373271.00\n",
              "mean     2007.65       5304.58     42867657.55\n",
              "std         7.44       2767.02    899054286.46\n",
              "min      1995.00        101.00            0.00\n",
              "25%      2001.00       2843.00            0.00\n",
              "50%      2008.00       5402.00         1119.00\n",
              "75%      2014.00       8102.00       432040.50\n",
              "max      2020.00       9999.00 371679199232.00"
            ],
            "text/html": [
              "\n",
              "  <div id=\"df-a8c53113-11e0-479f-92a8-4d4881d420e1\">\n",
              "    <div class=\"colab-df-container\">\n",
              "      <div>\n",
              "<style scoped>\n",
              "    .dataframe tbody tr th:only-of-type {\n",
              "        vertical-align: middle;\n",
              "    }\n",
              "\n",
              "    .dataframe tbody tr th {\n",
              "        vertical-align: top;\n",
              "    }\n",
              "\n",
              "    .dataframe thead th {\n",
              "        text-align: right;\n",
              "    }\n",
              "</style>\n",
              "<table border=\"1\" class=\"dataframe\">\n",
              "  <thead>\n",
              "    <tr style=\"text-align: right;\">\n",
              "      <th></th>\n",
              "      <th>year</th>\n",
              "      <th>product_code</th>\n",
              "      <th>export_value</th>\n",
              "    </tr>\n",
              "  </thead>\n",
              "  <tbody>\n",
              "    <tr>\n",
              "      <th>count</th>\n",
              "      <td>7373271.00</td>\n",
              "      <td>7373271.00</td>\n",
              "      <td>7373271.00</td>\n",
              "    </tr>\n",
              "    <tr>\n",
              "      <th>mean</th>\n",
              "      <td>2007.65</td>\n",
              "      <td>5304.58</td>\n",
              "      <td>42867657.55</td>\n",
              "    </tr>\n",
              "    <tr>\n",
              "      <th>std</th>\n",
              "      <td>7.44</td>\n",
              "      <td>2767.02</td>\n",
              "      <td>899054286.46</td>\n",
              "    </tr>\n",
              "    <tr>\n",
              "      <th>min</th>\n",
              "      <td>1995.00</td>\n",
              "      <td>101.00</td>\n",
              "      <td>0.00</td>\n",
              "    </tr>\n",
              "    <tr>\n",
              "      <th>25%</th>\n",
              "      <td>2001.00</td>\n",
              "      <td>2843.00</td>\n",
              "      <td>0.00</td>\n",
              "    </tr>\n",
              "    <tr>\n",
              "      <th>50%</th>\n",
              "      <td>2008.00</td>\n",
              "      <td>5402.00</td>\n",
              "      <td>1119.00</td>\n",
              "    </tr>\n",
              "    <tr>\n",
              "      <th>75%</th>\n",
              "      <td>2014.00</td>\n",
              "      <td>8102.00</td>\n",
              "      <td>432040.50</td>\n",
              "    </tr>\n",
              "    <tr>\n",
              "      <th>max</th>\n",
              "      <td>2020.00</td>\n",
              "      <td>9999.00</td>\n",
              "      <td>371679199232.00</td>\n",
              "    </tr>\n",
              "  </tbody>\n",
              "</table>\n",
              "</div>\n",
              "      <button class=\"colab-df-convert\" onclick=\"convertToInteractive('df-a8c53113-11e0-479f-92a8-4d4881d420e1')\"\n",
              "              title=\"Convert this dataframe to an interactive table.\"\n",
              "              style=\"display:none;\">\n",
              "        \n",
              "  <svg xmlns=\"http://www.w3.org/2000/svg\" height=\"24px\"viewBox=\"0 0 24 24\"\n",
              "       width=\"24px\">\n",
              "    <path d=\"M0 0h24v24H0V0z\" fill=\"none\"/>\n",
              "    <path d=\"M18.56 5.44l.94 2.06.94-2.06 2.06-.94-2.06-.94-.94-2.06-.94 2.06-2.06.94zm-11 1L8.5 8.5l.94-2.06 2.06-.94-2.06-.94L8.5 2.5l-.94 2.06-2.06.94zm10 10l.94 2.06.94-2.06 2.06-.94-2.06-.94-.94-2.06-.94 2.06-2.06.94z\"/><path d=\"M17.41 7.96l-1.37-1.37c-.4-.4-.92-.59-1.43-.59-.52 0-1.04.2-1.43.59L10.3 9.45l-7.72 7.72c-.78.78-.78 2.05 0 2.83L4 21.41c.39.39.9.59 1.41.59.51 0 1.02-.2 1.41-.59l7.78-7.78 2.81-2.81c.8-.78.8-2.07 0-2.86zM5.41 20L4 18.59l7.72-7.72 1.47 1.35L5.41 20z\"/>\n",
              "  </svg>\n",
              "      </button>\n",
              "      \n",
              "  <style>\n",
              "    .colab-df-container {\n",
              "      display:flex;\n",
              "      flex-wrap:wrap;\n",
              "      gap: 12px;\n",
              "    }\n",
              "\n",
              "    .colab-df-convert {\n",
              "      background-color: #E8F0FE;\n",
              "      border: none;\n",
              "      border-radius: 50%;\n",
              "      cursor: pointer;\n",
              "      display: none;\n",
              "      fill: #1967D2;\n",
              "      height: 32px;\n",
              "      padding: 0 0 0 0;\n",
              "      width: 32px;\n",
              "    }\n",
              "\n",
              "    .colab-df-convert:hover {\n",
              "      background-color: #E2EBFA;\n",
              "      box-shadow: 0px 1px 2px rgba(60, 64, 67, 0.3), 0px 1px 3px 1px rgba(60, 64, 67, 0.15);\n",
              "      fill: #174EA6;\n",
              "    }\n",
              "\n",
              "    [theme=dark] .colab-df-convert {\n",
              "      background-color: #3B4455;\n",
              "      fill: #D2E3FC;\n",
              "    }\n",
              "\n",
              "    [theme=dark] .colab-df-convert:hover {\n",
              "      background-color: #434B5C;\n",
              "      box-shadow: 0px 1px 3px 1px rgba(0, 0, 0, 0.15);\n",
              "      filter: drop-shadow(0px 1px 2px rgba(0, 0, 0, 0.3));\n",
              "      fill: #FFFFFF;\n",
              "    }\n",
              "  </style>\n",
              "\n",
              "      <script>\n",
              "        const buttonEl =\n",
              "          document.querySelector('#df-a8c53113-11e0-479f-92a8-4d4881d420e1 button.colab-df-convert');\n",
              "        buttonEl.style.display =\n",
              "          google.colab.kernel.accessAllowed ? 'block' : 'none';\n",
              "\n",
              "        async function convertToInteractive(key) {\n",
              "          const element = document.querySelector('#df-a8c53113-11e0-479f-92a8-4d4881d420e1');\n",
              "          const dataTable =\n",
              "            await google.colab.kernel.invokeFunction('convertToInteractive',\n",
              "                                                     [key], {});\n",
              "          if (!dataTable) return;\n",
              "\n",
              "          const docLinkHtml = 'Like what you see? Visit the ' +\n",
              "            '<a target=\"_blank\" href=https://colab.research.google.com/notebooks/data_table.ipynb>data table notebook</a>'\n",
              "            + ' to learn more about interactive tables.';\n",
              "          element.innerHTML = '';\n",
              "          dataTable['output_type'] = 'display_data';\n",
              "          await google.colab.output.renderOutput(dataTable, element);\n",
              "          const docLink = document.createElement('div');\n",
              "          docLink.innerHTML = docLinkHtml;\n",
              "          element.appendChild(docLink);\n",
              "        }\n",
              "      </script>\n",
              "    </div>\n",
              "  </div>\n",
              "  "
            ]
          },
          "metadata": {},
          "execution_count": 6
        }
      ]
    },
    {
      "cell_type": "code",
      "source": [],
      "metadata": {
        "id": "xWYAfdZx3xzd"
      },
      "execution_count": null,
      "outputs": []
    },
    {
      "cell_type": "code",
      "source": [
        "# df_base['product_code'] = df_base['product_code'].apply(lambda x: '{0:0>4}'.format(x))\n",
        "# df['product_code']  = df['product_code'] .apply(np.int64)\n",
        "\n",
        "df_base.sample(n=6)\n",
        "df_base.info()"
      ],
      "metadata": {
        "id": "dANFtq7d6obW",
        "outputId": "76000c60-b5e8-440e-b96c-043884a639ca",
        "colab": {
          "base_uri": "https://localhost:8080/",
          "height": 524
        }
      },
      "execution_count": null,
      "outputs": [
        {
          "output_type": "execute_result",
          "data": {
            "text/plain": [
              "         year country_code   country_name  product_code                                                                                                                                                                 product_name  export_value\n",
              "45079    2020          MMR        Myanmar           202                                                                                                                                               Meat of bovine animals; frozen         35442\n",
              "765295   2004          HTI          Haiti          1507                                                                                         Soya-bean oil and its fractions; whether or not refined, but not chemically modified             0\n",
              "6600667  2004          KAZ     Kazakhstan          8701                                                                                                                           Tractors; (other than tractors of heading no 8709)       1731284\n",
              "4214434  1997          ETH       Ethiopia          6212                                        Brassieres, girdles, corsets, braces, suspenders, garters and similar articles and parts thereof; whether or not knitted or crocheted             0\n",
              "2055512  1997          MRT     Mauritania          2928                                                                                                                         Organic derivatives of hydrazine or of hydroxylamine             0\n",
              "7098862  1996          NCL  New Caledonia          9209  Musical instrument parts (eg mechanisms for musical boxes) and accessories (eg cards, discs and rolls for mechanical instruments), metronomes, tuning forks and pitch pipes             0"
            ],
            "text/html": [
              "\n",
              "  <div id=\"df-cdf9bec0-3dc1-45db-ac27-7b781800079f\">\n",
              "    <div class=\"colab-df-container\">\n",
              "      <div>\n",
              "<style scoped>\n",
              "    .dataframe tbody tr th:only-of-type {\n",
              "        vertical-align: middle;\n",
              "    }\n",
              "\n",
              "    .dataframe tbody tr th {\n",
              "        vertical-align: top;\n",
              "    }\n",
              "\n",
              "    .dataframe thead th {\n",
              "        text-align: right;\n",
              "    }\n",
              "</style>\n",
              "<table border=\"1\" class=\"dataframe\">\n",
              "  <thead>\n",
              "    <tr style=\"text-align: right;\">\n",
              "      <th></th>\n",
              "      <th>year</th>\n",
              "      <th>country_code</th>\n",
              "      <th>country_name</th>\n",
              "      <th>product_code</th>\n",
              "      <th>product_name</th>\n",
              "      <th>export_value</th>\n",
              "    </tr>\n",
              "  </thead>\n",
              "  <tbody>\n",
              "    <tr>\n",
              "      <th>45079</th>\n",
              "      <td>2020</td>\n",
              "      <td>MMR</td>\n",
              "      <td>Myanmar</td>\n",
              "      <td>202</td>\n",
              "      <td>Meat of bovine animals; frozen</td>\n",
              "      <td>35442</td>\n",
              "    </tr>\n",
              "    <tr>\n",
              "      <th>765295</th>\n",
              "      <td>2004</td>\n",
              "      <td>HTI</td>\n",
              "      <td>Haiti</td>\n",
              "      <td>1507</td>\n",
              "      <td>Soya-bean oil and its fractions; whether or not refined, but not chemically modified</td>\n",
              "      <td>0</td>\n",
              "    </tr>\n",
              "    <tr>\n",
              "      <th>6600667</th>\n",
              "      <td>2004</td>\n",
              "      <td>KAZ</td>\n",
              "      <td>Kazakhstan</td>\n",
              "      <td>8701</td>\n",
              "      <td>Tractors; (other than tractors of heading no 8709)</td>\n",
              "      <td>1731284</td>\n",
              "    </tr>\n",
              "    <tr>\n",
              "      <th>4214434</th>\n",
              "      <td>1997</td>\n",
              "      <td>ETH</td>\n",
              "      <td>Ethiopia</td>\n",
              "      <td>6212</td>\n",
              "      <td>Brassieres, girdles, corsets, braces, suspenders, garters and similar articles and parts thereof; whether or not knitted or crocheted</td>\n",
              "      <td>0</td>\n",
              "    </tr>\n",
              "    <tr>\n",
              "      <th>2055512</th>\n",
              "      <td>1997</td>\n",
              "      <td>MRT</td>\n",
              "      <td>Mauritania</td>\n",
              "      <td>2928</td>\n",
              "      <td>Organic derivatives of hydrazine or of hydroxylamine</td>\n",
              "      <td>0</td>\n",
              "    </tr>\n",
              "    <tr>\n",
              "      <th>7098862</th>\n",
              "      <td>1996</td>\n",
              "      <td>NCL</td>\n",
              "      <td>New Caledonia</td>\n",
              "      <td>9209</td>\n",
              "      <td>Musical instrument parts (eg mechanisms for musical boxes) and accessories (eg cards, discs and rolls for mechanical instruments), metronomes, tuning forks and pitch pipes</td>\n",
              "      <td>0</td>\n",
              "    </tr>\n",
              "  </tbody>\n",
              "</table>\n",
              "</div>\n",
              "      <button class=\"colab-df-convert\" onclick=\"convertToInteractive('df-cdf9bec0-3dc1-45db-ac27-7b781800079f')\"\n",
              "              title=\"Convert this dataframe to an interactive table.\"\n",
              "              style=\"display:none;\">\n",
              "        \n",
              "  <svg xmlns=\"http://www.w3.org/2000/svg\" height=\"24px\"viewBox=\"0 0 24 24\"\n",
              "       width=\"24px\">\n",
              "    <path d=\"M0 0h24v24H0V0z\" fill=\"none\"/>\n",
              "    <path d=\"M18.56 5.44l.94 2.06.94-2.06 2.06-.94-2.06-.94-.94-2.06-.94 2.06-2.06.94zm-11 1L8.5 8.5l.94-2.06 2.06-.94-2.06-.94L8.5 2.5l-.94 2.06-2.06.94zm10 10l.94 2.06.94-2.06 2.06-.94-2.06-.94-.94-2.06-.94 2.06-2.06.94z\"/><path d=\"M17.41 7.96l-1.37-1.37c-.4-.4-.92-.59-1.43-.59-.52 0-1.04.2-1.43.59L10.3 9.45l-7.72 7.72c-.78.78-.78 2.05 0 2.83L4 21.41c.39.39.9.59 1.41.59.51 0 1.02-.2 1.41-.59l7.78-7.78 2.81-2.81c.8-.78.8-2.07 0-2.86zM5.41 20L4 18.59l7.72-7.72 1.47 1.35L5.41 20z\"/>\n",
              "  </svg>\n",
              "      </button>\n",
              "      \n",
              "  <style>\n",
              "    .colab-df-container {\n",
              "      display:flex;\n",
              "      flex-wrap:wrap;\n",
              "      gap: 12px;\n",
              "    }\n",
              "\n",
              "    .colab-df-convert {\n",
              "      background-color: #E8F0FE;\n",
              "      border: none;\n",
              "      border-radius: 50%;\n",
              "      cursor: pointer;\n",
              "      display: none;\n",
              "      fill: #1967D2;\n",
              "      height: 32px;\n",
              "      padding: 0 0 0 0;\n",
              "      width: 32px;\n",
              "    }\n",
              "\n",
              "    .colab-df-convert:hover {\n",
              "      background-color: #E2EBFA;\n",
              "      box-shadow: 0px 1px 2px rgba(60, 64, 67, 0.3), 0px 1px 3px 1px rgba(60, 64, 67, 0.15);\n",
              "      fill: #174EA6;\n",
              "    }\n",
              "\n",
              "    [theme=dark] .colab-df-convert {\n",
              "      background-color: #3B4455;\n",
              "      fill: #D2E3FC;\n",
              "    }\n",
              "\n",
              "    [theme=dark] .colab-df-convert:hover {\n",
              "      background-color: #434B5C;\n",
              "      box-shadow: 0px 1px 3px 1px rgba(0, 0, 0, 0.15);\n",
              "      filter: drop-shadow(0px 1px 2px rgba(0, 0, 0, 0.3));\n",
              "      fill: #FFFFFF;\n",
              "    }\n",
              "  </style>\n",
              "\n",
              "      <script>\n",
              "        const buttonEl =\n",
              "          document.querySelector('#df-cdf9bec0-3dc1-45db-ac27-7b781800079f button.colab-df-convert');\n",
              "        buttonEl.style.display =\n",
              "          google.colab.kernel.accessAllowed ? 'block' : 'none';\n",
              "\n",
              "        async function convertToInteractive(key) {\n",
              "          const element = document.querySelector('#df-cdf9bec0-3dc1-45db-ac27-7b781800079f');\n",
              "          const dataTable =\n",
              "            await google.colab.kernel.invokeFunction('convertToInteractive',\n",
              "                                                     [key], {});\n",
              "          if (!dataTable) return;\n",
              "\n",
              "          const docLinkHtml = 'Like what you see? Visit the ' +\n",
              "            '<a target=\"_blank\" href=https://colab.research.google.com/notebooks/data_table.ipynb>data table notebook</a>'\n",
              "            + ' to learn more about interactive tables.';\n",
              "          element.innerHTML = '';\n",
              "          dataTable['output_type'] = 'display_data';\n",
              "          await google.colab.output.renderOutput(dataTable, element);\n",
              "          const docLink = document.createElement('div');\n",
              "          docLink.innerHTML = docLinkHtml;\n",
              "          element.appendChild(docLink);\n",
              "        }\n",
              "      </script>\n",
              "    </div>\n",
              "  </div>\n",
              "  "
            ]
          },
          "metadata": {},
          "execution_count": 7
        },
        {
          "output_type": "stream",
          "name": "stdout",
          "text": [
            "<class 'pandas.core.frame.DataFrame'>\n",
            "RangeIndex: 7373271 entries, 0 to 7373270\n",
            "Data columns (total 6 columns):\n",
            " #   Column        Dtype \n",
            "---  ------        ----- \n",
            " 0   year          int64 \n",
            " 1   country_code  object\n",
            " 2   country_name  object\n",
            " 3   product_code  int64 \n",
            " 4   product_name  object\n",
            " 5   export_value  int64 \n",
            "dtypes: int64(3), object(3)\n",
            "memory usage: 337.5+ MB\n"
          ]
        }
      ]
    },
    {
      "cell_type": "markdown",
      "source": [
        "###Finding specific countries / products based on partial string matching If you’re interested in finding data on certain countries / products but not sure how exactly these are spelled in the data (or are spelled with / without e.g. capital letters)"
      ],
      "metadata": {
        "id": "RqlW_TtS2ii9"
      }
    },
    {
      "cell_type": "code",
      "source": [
        "STRING = 'Netherland'\n",
        "df_base[df_base['country_name'].str.contains(STRING)][['country_name']].drop_duplicates()\n",
        "\n",
        "STRING = 'wine'\n",
        "df_base[df_base['product_name'].str.contains(STRING,flags=re.IGNORECASE, regex=True)][['product_name']].drop_duplicates()"
      ],
      "metadata": {
        "colab": {
          "base_uri": "https://localhost:8080/"
        },
        "id": "w4rlxkuw2drm",
        "outputId": "6f625907-6ab2-4a4a-ceda-dc2593444481"
      },
      "execution_count": null,
      "outputs": [
        {
          "output_type": "execute_result",
          "data": {
            "text/plain": [
              "              country_name\n",
              "156   Netherlands Antilles\n",
              "3711           Netherlands"
            ],
            "text/html": [
              "\n",
              "  <div id=\"df-a85a0802-8e52-4c35-871b-20e72e073c89\">\n",
              "    <div class=\"colab-df-container\">\n",
              "      <div>\n",
              "<style scoped>\n",
              "    .dataframe tbody tr th:only-of-type {\n",
              "        vertical-align: middle;\n",
              "    }\n",
              "\n",
              "    .dataframe tbody tr th {\n",
              "        vertical-align: top;\n",
              "    }\n",
              "\n",
              "    .dataframe thead th {\n",
              "        text-align: right;\n",
              "    }\n",
              "</style>\n",
              "<table border=\"1\" class=\"dataframe\">\n",
              "  <thead>\n",
              "    <tr style=\"text-align: right;\">\n",
              "      <th></th>\n",
              "      <th>country_name</th>\n",
              "    </tr>\n",
              "  </thead>\n",
              "  <tbody>\n",
              "    <tr>\n",
              "      <th>156</th>\n",
              "      <td>Netherlands Antilles</td>\n",
              "    </tr>\n",
              "    <tr>\n",
              "      <th>3711</th>\n",
              "      <td>Netherlands</td>\n",
              "    </tr>\n",
              "  </tbody>\n",
              "</table>\n",
              "</div>\n",
              "      <button class=\"colab-df-convert\" onclick=\"convertToInteractive('df-a85a0802-8e52-4c35-871b-20e72e073c89')\"\n",
              "              title=\"Convert this dataframe to an interactive table.\"\n",
              "              style=\"display:none;\">\n",
              "        \n",
              "  <svg xmlns=\"http://www.w3.org/2000/svg\" height=\"24px\"viewBox=\"0 0 24 24\"\n",
              "       width=\"24px\">\n",
              "    <path d=\"M0 0h24v24H0V0z\" fill=\"none\"/>\n",
              "    <path d=\"M18.56 5.44l.94 2.06.94-2.06 2.06-.94-2.06-.94-.94-2.06-.94 2.06-2.06.94zm-11 1L8.5 8.5l.94-2.06 2.06-.94-2.06-.94L8.5 2.5l-.94 2.06-2.06.94zm10 10l.94 2.06.94-2.06 2.06-.94-2.06-.94-.94-2.06-.94 2.06-2.06.94z\"/><path d=\"M17.41 7.96l-1.37-1.37c-.4-.4-.92-.59-1.43-.59-.52 0-1.04.2-1.43.59L10.3 9.45l-7.72 7.72c-.78.78-.78 2.05 0 2.83L4 21.41c.39.39.9.59 1.41.59.51 0 1.02-.2 1.41-.59l7.78-7.78 2.81-2.81c.8-.78.8-2.07 0-2.86zM5.41 20L4 18.59l7.72-7.72 1.47 1.35L5.41 20z\"/>\n",
              "  </svg>\n",
              "      </button>\n",
              "      \n",
              "  <style>\n",
              "    .colab-df-container {\n",
              "      display:flex;\n",
              "      flex-wrap:wrap;\n",
              "      gap: 12px;\n",
              "    }\n",
              "\n",
              "    .colab-df-convert {\n",
              "      background-color: #E8F0FE;\n",
              "      border: none;\n",
              "      border-radius: 50%;\n",
              "      cursor: pointer;\n",
              "      display: none;\n",
              "      fill: #1967D2;\n",
              "      height: 32px;\n",
              "      padding: 0 0 0 0;\n",
              "      width: 32px;\n",
              "    }\n",
              "\n",
              "    .colab-df-convert:hover {\n",
              "      background-color: #E2EBFA;\n",
              "      box-shadow: 0px 1px 2px rgba(60, 64, 67, 0.3), 0px 1px 3px 1px rgba(60, 64, 67, 0.15);\n",
              "      fill: #174EA6;\n",
              "    }\n",
              "\n",
              "    [theme=dark] .colab-df-convert {\n",
              "      background-color: #3B4455;\n",
              "      fill: #D2E3FC;\n",
              "    }\n",
              "\n",
              "    [theme=dark] .colab-df-convert:hover {\n",
              "      background-color: #434B5C;\n",
              "      box-shadow: 0px 1px 3px 1px rgba(0, 0, 0, 0.15);\n",
              "      filter: drop-shadow(0px 1px 2px rgba(0, 0, 0, 0.3));\n",
              "      fill: #FFFFFF;\n",
              "    }\n",
              "  </style>\n",
              "\n",
              "      <script>\n",
              "        const buttonEl =\n",
              "          document.querySelector('#df-a85a0802-8e52-4c35-871b-20e72e073c89 button.colab-df-convert');\n",
              "        buttonEl.style.display =\n",
              "          google.colab.kernel.accessAllowed ? 'block' : 'none';\n",
              "\n",
              "        async function convertToInteractive(key) {\n",
              "          const element = document.querySelector('#df-a85a0802-8e52-4c35-871b-20e72e073c89');\n",
              "          const dataTable =\n",
              "            await google.colab.kernel.invokeFunction('convertToInteractive',\n",
              "                                                     [key], {});\n",
              "          if (!dataTable) return;\n",
              "\n",
              "          const docLinkHtml = 'Like what you see? Visit the ' +\n",
              "            '<a target=\"_blank\" href=https://colab.research.google.com/notebooks/data_table.ipynb>data table notebook</a>'\n",
              "            + ' to learn more about interactive tables.';\n",
              "          element.innerHTML = '';\n",
              "          dataTable['output_type'] = 'display_data';\n",
              "          await google.colab.output.renderOutput(dataTable, element);\n",
              "          const docLink = document.createElement('div');\n",
              "          docLink.innerHTML = docLinkHtml;\n",
              "          element.appendChild(docLink);\n",
              "        }\n",
              "      </script>\n",
              "    </div>\n",
              "  </div>\n",
              "  "
            ]
          },
          "metadata": {},
          "execution_count": 8
        },
        {
          "output_type": "execute_result",
          "data": {
            "text/plain": [
              "                                                                                                                                                 product_name\n",
              "11924                                                                                                                                             Swine; live\n",
              "47696                                                                                                                 Meat of swine; fresh, chilled or frozen\n",
              "65582                                          Edible offal of bovine animals, swine, sheep, goats, horses, asses, mules or hinnies; fresh, chilled or frozen\n",
              "1084954                                                       Wine of fresh grapes, including fortified wines; grape must other than that of heading no. 2009\n",
              "1090916                                                                 Vermouth and other wine of fresh grapes, flavoured with plants or aromatic substances\n",
              "1156498                                                                                                                                      Wine lees; argol\n",
              "3855058  Twine, cordage, ropes and cables, whether or not plaited or braided; whether or not impregnated, coated, covered or sheathed with rubber or plastics\n",
              "3861020                                            Twine, cordage or rope; knotted netting, made up fishing nets and other made up nets, of textile materials\n",
              "3866982                                    Articles of yarn, strip or the like of heading no. 5404 or 5405; twine, cordage, rope or cables n.e.s. or included\n",
              "4302208                Rags; used or new, scrap twine, cordage, rope and cables and worn out articles of twine, cordage, rope or cables, of textile materials\n",
              "5954118                                    Presses, crushers and similar machinery; used in the manufacture of wine, cider, fruit juices or similar beverages"
            ],
            "text/html": [
              "\n",
              "  <div id=\"df-f196cfcc-4bb6-4b0c-a3d7-331048eac234\">\n",
              "    <div class=\"colab-df-container\">\n",
              "      <div>\n",
              "<style scoped>\n",
              "    .dataframe tbody tr th:only-of-type {\n",
              "        vertical-align: middle;\n",
              "    }\n",
              "\n",
              "    .dataframe tbody tr th {\n",
              "        vertical-align: top;\n",
              "    }\n",
              "\n",
              "    .dataframe thead th {\n",
              "        text-align: right;\n",
              "    }\n",
              "</style>\n",
              "<table border=\"1\" class=\"dataframe\">\n",
              "  <thead>\n",
              "    <tr style=\"text-align: right;\">\n",
              "      <th></th>\n",
              "      <th>product_name</th>\n",
              "    </tr>\n",
              "  </thead>\n",
              "  <tbody>\n",
              "    <tr>\n",
              "      <th>11924</th>\n",
              "      <td>Swine; live</td>\n",
              "    </tr>\n",
              "    <tr>\n",
              "      <th>47696</th>\n",
              "      <td>Meat of swine; fresh, chilled or frozen</td>\n",
              "    </tr>\n",
              "    <tr>\n",
              "      <th>65582</th>\n",
              "      <td>Edible offal of bovine animals, swine, sheep, goats, horses, asses, mules or hinnies; fresh, chilled or frozen</td>\n",
              "    </tr>\n",
              "    <tr>\n",
              "      <th>1084954</th>\n",
              "      <td>Wine of fresh grapes, including fortified wines; grape must other than that of heading no. 2009</td>\n",
              "    </tr>\n",
              "    <tr>\n",
              "      <th>1090916</th>\n",
              "      <td>Vermouth and other wine of fresh grapes, flavoured with plants or aromatic substances</td>\n",
              "    </tr>\n",
              "    <tr>\n",
              "      <th>1156498</th>\n",
              "      <td>Wine lees; argol</td>\n",
              "    </tr>\n",
              "    <tr>\n",
              "      <th>3855058</th>\n",
              "      <td>Twine, cordage, ropes and cables, whether or not plaited or braided; whether or not impregnated, coated, covered or sheathed with rubber or plastics</td>\n",
              "    </tr>\n",
              "    <tr>\n",
              "      <th>3861020</th>\n",
              "      <td>Twine, cordage or rope; knotted netting, made up fishing nets and other made up nets, of textile materials</td>\n",
              "    </tr>\n",
              "    <tr>\n",
              "      <th>3866982</th>\n",
              "      <td>Articles of yarn, strip or the like of heading no. 5404 or 5405; twine, cordage, rope or cables n.e.s. or included</td>\n",
              "    </tr>\n",
              "    <tr>\n",
              "      <th>4302208</th>\n",
              "      <td>Rags; used or new, scrap twine, cordage, rope and cables and worn out articles of twine, cordage, rope or cables, of textile materials</td>\n",
              "    </tr>\n",
              "    <tr>\n",
              "      <th>5954118</th>\n",
              "      <td>Presses, crushers and similar machinery; used in the manufacture of wine, cider, fruit juices or similar beverages</td>\n",
              "    </tr>\n",
              "  </tbody>\n",
              "</table>\n",
              "</div>\n",
              "      <button class=\"colab-df-convert\" onclick=\"convertToInteractive('df-f196cfcc-4bb6-4b0c-a3d7-331048eac234')\"\n",
              "              title=\"Convert this dataframe to an interactive table.\"\n",
              "              style=\"display:none;\">\n",
              "        \n",
              "  <svg xmlns=\"http://www.w3.org/2000/svg\" height=\"24px\"viewBox=\"0 0 24 24\"\n",
              "       width=\"24px\">\n",
              "    <path d=\"M0 0h24v24H0V0z\" fill=\"none\"/>\n",
              "    <path d=\"M18.56 5.44l.94 2.06.94-2.06 2.06-.94-2.06-.94-.94-2.06-.94 2.06-2.06.94zm-11 1L8.5 8.5l.94-2.06 2.06-.94-2.06-.94L8.5 2.5l-.94 2.06-2.06.94zm10 10l.94 2.06.94-2.06 2.06-.94-2.06-.94-.94-2.06-.94 2.06-2.06.94z\"/><path d=\"M17.41 7.96l-1.37-1.37c-.4-.4-.92-.59-1.43-.59-.52 0-1.04.2-1.43.59L10.3 9.45l-7.72 7.72c-.78.78-.78 2.05 0 2.83L4 21.41c.39.39.9.59 1.41.59.51 0 1.02-.2 1.41-.59l7.78-7.78 2.81-2.81c.8-.78.8-2.07 0-2.86zM5.41 20L4 18.59l7.72-7.72 1.47 1.35L5.41 20z\"/>\n",
              "  </svg>\n",
              "      </button>\n",
              "      \n",
              "  <style>\n",
              "    .colab-df-container {\n",
              "      display:flex;\n",
              "      flex-wrap:wrap;\n",
              "      gap: 12px;\n",
              "    }\n",
              "\n",
              "    .colab-df-convert {\n",
              "      background-color: #E8F0FE;\n",
              "      border: none;\n",
              "      border-radius: 50%;\n",
              "      cursor: pointer;\n",
              "      display: none;\n",
              "      fill: #1967D2;\n",
              "      height: 32px;\n",
              "      padding: 0 0 0 0;\n",
              "      width: 32px;\n",
              "    }\n",
              "\n",
              "    .colab-df-convert:hover {\n",
              "      background-color: #E2EBFA;\n",
              "      box-shadow: 0px 1px 2px rgba(60, 64, 67, 0.3), 0px 1px 3px 1px rgba(60, 64, 67, 0.15);\n",
              "      fill: #174EA6;\n",
              "    }\n",
              "\n",
              "    [theme=dark] .colab-df-convert {\n",
              "      background-color: #3B4455;\n",
              "      fill: #D2E3FC;\n",
              "    }\n",
              "\n",
              "    [theme=dark] .colab-df-convert:hover {\n",
              "      background-color: #434B5C;\n",
              "      box-shadow: 0px 1px 3px 1px rgba(0, 0, 0, 0.15);\n",
              "      filter: drop-shadow(0px 1px 2px rgba(0, 0, 0, 0.3));\n",
              "      fill: #FFFFFF;\n",
              "    }\n",
              "  </style>\n",
              "\n",
              "      <script>\n",
              "        const buttonEl =\n",
              "          document.querySelector('#df-f196cfcc-4bb6-4b0c-a3d7-331048eac234 button.colab-df-convert');\n",
              "        buttonEl.style.display =\n",
              "          google.colab.kernel.accessAllowed ? 'block' : 'none';\n",
              "\n",
              "        async function convertToInteractive(key) {\n",
              "          const element = document.querySelector('#df-f196cfcc-4bb6-4b0c-a3d7-331048eac234');\n",
              "          const dataTable =\n",
              "            await google.colab.kernel.invokeFunction('convertToInteractive',\n",
              "                                                     [key], {});\n",
              "          if (!dataTable) return;\n",
              "\n",
              "          const docLinkHtml = 'Like what you see? Visit the ' +\n",
              "            '<a target=\"_blank\" href=https://colab.research.google.com/notebooks/data_table.ipynb>data table notebook</a>'\n",
              "            + ' to learn more about interactive tables.';\n",
              "          element.innerHTML = '';\n",
              "          dataTable['output_type'] = 'display_data';\n",
              "          await google.colab.output.renderOutput(dataTable, element);\n",
              "          const docLink = document.createElement('div');\n",
              "          docLink.innerHTML = docLinkHtml;\n",
              "          element.appendChild(docLink);\n",
              "        }\n",
              "      </script>\n",
              "    </div>\n",
              "  </div>\n",
              "  "
            ]
          },
          "metadata": {},
          "execution_count": 8
        }
      ]
    },
    {
      "cell_type": "markdown",
      "source": [
        "#Limpieza de la base de GDP"
      ],
      "metadata": {
        "id": "WxwpvYGP32Ar"
      }
    },
    {
      "cell_type": "markdown",
      "source": [
        "###Selección de año a trabajar"
      ],
      "metadata": {
        "id": "C7oV_3Ew4c5W"
      }
    },
    {
      "cell_type": "code",
      "source": [
        "def filtrarBaseGDPporAnio (data,year):\n",
        "  # years = [2000,2001,2002,2003,2004,2005,2006,2007,2008,2009,2010,2011,2012,2013,2014,2015,2016,2017,2018,2019]\n",
        "  yearselected = [year]\n",
        "  data_filtered = data[(data['year'].isin(yearselected))].copy()\n",
        "  data_filtered = data_filtered.reset_index(drop=True)\n",
        "\n",
        "  return data_filtered"
      ],
      "metadata": {
        "id": "QNLfs6AP4g9-"
      },
      "execution_count": null,
      "outputs": []
    },
    {
      "cell_type": "code",
      "source": [
        "def gdppc_countries(data):\n",
        "\n",
        "    data = data.filter(items=['Country Name','Country Code','2000','2001','2002','2003','2004','2005','2006','2007','2008','2009','2010','2011','2012','2013','2014','2015','2016','2017','2018','2019']).copy()\n",
        "    # years = ['2000','2001','2002','2003','2004','2005','2006','2007','2008','2009','2010','2011','2012','2013','2014','2015','2016','2017','2018','2019']\n",
        "    # vecinos\n",
        "    # df_eci_vecinos = df_ec[(df_ec['year'].isin(years)) & (df_ec['country_name'].isin(vecinos))].copy()\n",
        "\n",
        "    data=data.rename(columns={\"Country Name\": \"country_name\", \"Country Code\": \"country_code\"}).copy()\n",
        "    data=data.melt(id_vars=[\"country_name\", \"country_code\"], var_name=\"year\", value_name=\"Value\").copy()\n",
        "    data=data.rename(columns={\"Value\": \"gdp_per_capita\"}).copy()\n",
        "    data =  data.loc[data[\"country_name\"] != 'Latin America & the Caribbean (IDA & IBRD countries)' ].copy()\n",
        "    data =  data.loc[data[\"country_name\"] != 'Europe & Central Asia (excluding high income)' ].copy()\n",
        "    data =  data.loc[data[\"country_name\"] != 'World' ].copy()\n",
        "    data =  data.loc[data[\"country_name\"] != 'Fragile and conflict affected situations'].copy()\n",
        "    data =  data.loc[data[\"country_name\"] != 'Pacific island small states'].copy()\n",
        "    data =  data.loc[data[\"country_name\"] != 'OECD members'].copy()\n",
        "    data =  data.loc[data[\"country_name\"] != 'Caribbean small states'].copy()\n",
        "    data =  data.loc[data[\"country_name\"] != 'Heavily indebted poor countries (HIPC)'].copy()\n",
        "    data =  data.loc[data[\"country_name\"] != 'Small states'].copy()\n",
        "    data =  data.loc[data[\"country_name\"] != 'East Asia & Pacific (excluding high income)'].copy()\n",
        "    data =  data.loc[data[\"country_name\"] != 'Europe & Central Asia (IDA & IBRD countries)'].copy()\n",
        "    data =  data.loc[data[\"country_name\"] != 'Africa Eastern and Southern'].copy()\n",
        "    data =  data.loc[data[\"country_name\"] != 'Africa Western and Central'].copy()\n",
        "    data =  data.loc[data[\"country_name\"] != 'Middle East & North Africa (excluding high income)'].copy()\n",
        "    data =  data.loc[data[\"country_name\"] != 'Europe & Central Asia'].copy()\n",
        "    data =  data.loc[data[\"country_name\"] != 'Latin America & Caribbean (excluding high income)'].copy()\n",
        "\n",
        "\n",
        "\n",
        "    ## No se consideran aquellos países indicados por region\n",
        "    data =  data.loc[(data[\"country_name\"] != 'Lower middle income') & (data[\"country_name\"] != 'IBRD only')& (data[\"country_name\"] != 'IDA total') & (data[\"country_name\"] != 'East Asia & Pacific')\n",
        "    &(data['country_name']!='Sub-Saharan Africa (excluding high income)')&(data['country_name']!='Low & middle income')&(data['country_name']!='Not classified')\n",
        "    &(data['country_name']!='Middle East & North Africa (IDA & IBRD countries)')&(data['country_name']!='Post-demographic dividend')&(data['country_name']!='Latin America & Caribbean')\n",
        "    &(data['country_name']!='Middle income')&(data['country_name']!='East Asia & Pacific (IDA & IBRD countries)')&(data['country_name']!='IDA & IBRD total') &(data['country_name']!='South Asia (IDA & IBRD)')\n",
        "    &(data['country_name']!='South Asia')\n",
        "    &(data['country_name']!='Least developed countries: UN classification')].copy()\n",
        "    ## Se reemplaza actualiza los nombres de paises de la base del Banco Mundial para igualarlos con los de la base CONTRADE\n",
        "    data=data.replace(\"Korea, Dem. People's Rep.\", \"North Korea\").copy()\n",
        "    data=data.replace(\"Korea, Rep.\", \"South Korea\").copy()\n",
        "    data=data.replace(\"Cote d'Ivoire\", \"Côte d'Ivoire\").copy()\n",
        "    data=data.replace(\"Congo, Dem. Rep.\", \"Congo (Democratic Republic of the)\").copy()\n",
        "    data=data.replace(\"Congo, Rep.\", \"Congo\").copy()\n",
        "    data=data.replace(\"Curacao\", \"Curaçao\").copy()\n",
        "    data=data.replace(\"British Virgin Islands\",\"Virgin Islands (British)\").copy()\n",
        "    data=data.replace(\"Egypt, Arab Rep.\",\"Egypt\").copy()\n",
        "    data=data.replace(\"Hong Kong SAR\",\"Hong Kong\").copy()\n",
        "    data=data.replace(\"United States\",\"United States of America\").copy()\n",
        "    data=data.replace(\"St. Vincent and the Grenadines\",\"Saint Vincent and the Grenadines\").copy()\n",
        "    data=data.replace(\"Venezuela, RB\",\"Venezuela\").copy()\n",
        "    data=data.replace(\"Czechia\",\"Czech Republic\").copy()\n",
        "    data=data.replace(\"Gambia, The\",\"Gambia\").copy()\n",
        "    data=data.replace('Bahamas, The',\"Bahamas\").copy()\n",
        "    data=data.replace(\"Yemen, Rep.\",\"Yemen\").copy()\n",
        "    data=data.replace(\"Slovak Republic\",\"Slovakia\").copy()\n",
        "    data=data.replace(\"Iran, Islamic Rep.\",\"Iran\").copy()\n",
        "    data=data.replace(\"Kyrgyz Republic\",\"Kyrgyzstan\").copy()\n",
        "    data=data.replace(\"Macao SAR, China\",\"Macao\").copy()\n",
        "    data=data.replace(\"Turkiye\",\"Turkey\").copy()\n",
        "    data=data.replace(\"Lao PDR\",\"Laos\").copy()\n",
        "    data=data.replace(\"Eswatini\",\"Swaziland\").copy()\n",
        "    data=data.replace('St. Kitts and Nevis','Saint Kitts and Nevis').copy()\n",
        "    data=data.replace('Micronesia, Fed. Sts.','Micronesia').copy()\n",
        "    data=data.replace('Hong Kong SAR, China','Hong Kong').copy()\n",
        "    data=data.replace('St. Lucia','Saint Lucia').copy()\n",
        "    data=data.replace('North Macedonia','Macedonia').copy()\n",
        " \n",
        "\n",
        "#  'Slovakia',Slovak Republic\n",
        "#  'Iran', 'Iran, Islamic Rep.',\n",
        "#  'Kyrgyzstan',  'Kyrgyz Republic',\n",
        "#  'Macao', 'Macao SAR, China',\n",
        "#  'Turkey', Turkiye\n",
        "#  'Laos',  'Lao PDR',\n",
        "#  'Swaziland',Eswatini\n",
        "\n",
        "#  'Micronesia',  'Micronesia, Fed. Sts.',\n",
        "#  'Hong Kong',  'Hong Kong SAR, China',\n",
        "#  'Saint Lucia', 'St. Lucia',\n",
        "#  'Macedonia',  'North Macedonia',\n",
        "\n",
        "    data[\"year\"]=data[\"year\"].astype(np.int64).copy()\n",
        "    data = data.reset_index(drop=True)\n",
        "\n",
        "    return data\n",
        "\n",
        "df_gdppc_countries=gdppc_countries(df_gdp_pc)\n",
        "\n",
        "def changinColName(data):\n",
        "  data = data.rename(columns={'country_name':'Country'})\n",
        "  return data\n",
        "  \n",
        "df_gdppc_countries=changinColName(df_gdppc_countries)\n",
        "df_gdppc_countries.head()\n",
        "\n"
      ],
      "metadata": {
        "colab": {
          "base_uri": "https://localhost:8080/",
          "height": 206
        },
        "id": "p54r_ESz346Y",
        "outputId": "2b87b046-34df-4553-8bd7-51fba506da2e"
      },
      "execution_count": null,
      "outputs": [
        {
          "output_type": "execute_result",
          "data": {
            "text/plain": [
              "       Country country_code  year  gdp_per_capita\n",
              "0        Aruba          ABW  2000        21023.16\n",
              "1  Afghanistan          AFG  2000             NaN\n",
              "2       Angola          AGO  2000          556.88\n",
              "3      Albania          ALB  2000         1126.68\n",
              "4      Andorra          AND  2000        21620.49"
            ],
            "text/html": [
              "\n",
              "  <div id=\"df-1d259af0-a314-4789-a219-a1308dad8562\">\n",
              "    <div class=\"colab-df-container\">\n",
              "      <div>\n",
              "<style scoped>\n",
              "    .dataframe tbody tr th:only-of-type {\n",
              "        vertical-align: middle;\n",
              "    }\n",
              "\n",
              "    .dataframe tbody tr th {\n",
              "        vertical-align: top;\n",
              "    }\n",
              "\n",
              "    .dataframe thead th {\n",
              "        text-align: right;\n",
              "    }\n",
              "</style>\n",
              "<table border=\"1\" class=\"dataframe\">\n",
              "  <thead>\n",
              "    <tr style=\"text-align: right;\">\n",
              "      <th></th>\n",
              "      <th>Country</th>\n",
              "      <th>country_code</th>\n",
              "      <th>year</th>\n",
              "      <th>gdp_per_capita</th>\n",
              "    </tr>\n",
              "  </thead>\n",
              "  <tbody>\n",
              "    <tr>\n",
              "      <th>0</th>\n",
              "      <td>Aruba</td>\n",
              "      <td>ABW</td>\n",
              "      <td>2000</td>\n",
              "      <td>21023.16</td>\n",
              "    </tr>\n",
              "    <tr>\n",
              "      <th>1</th>\n",
              "      <td>Afghanistan</td>\n",
              "      <td>AFG</td>\n",
              "      <td>2000</td>\n",
              "      <td>NaN</td>\n",
              "    </tr>\n",
              "    <tr>\n",
              "      <th>2</th>\n",
              "      <td>Angola</td>\n",
              "      <td>AGO</td>\n",
              "      <td>2000</td>\n",
              "      <td>556.88</td>\n",
              "    </tr>\n",
              "    <tr>\n",
              "      <th>3</th>\n",
              "      <td>Albania</td>\n",
              "      <td>ALB</td>\n",
              "      <td>2000</td>\n",
              "      <td>1126.68</td>\n",
              "    </tr>\n",
              "    <tr>\n",
              "      <th>4</th>\n",
              "      <td>Andorra</td>\n",
              "      <td>AND</td>\n",
              "      <td>2000</td>\n",
              "      <td>21620.49</td>\n",
              "    </tr>\n",
              "  </tbody>\n",
              "</table>\n",
              "</div>\n",
              "      <button class=\"colab-df-convert\" onclick=\"convertToInteractive('df-1d259af0-a314-4789-a219-a1308dad8562')\"\n",
              "              title=\"Convert this dataframe to an interactive table.\"\n",
              "              style=\"display:none;\">\n",
              "        \n",
              "  <svg xmlns=\"http://www.w3.org/2000/svg\" height=\"24px\"viewBox=\"0 0 24 24\"\n",
              "       width=\"24px\">\n",
              "    <path d=\"M0 0h24v24H0V0z\" fill=\"none\"/>\n",
              "    <path d=\"M18.56 5.44l.94 2.06.94-2.06 2.06-.94-2.06-.94-.94-2.06-.94 2.06-2.06.94zm-11 1L8.5 8.5l.94-2.06 2.06-.94-2.06-.94L8.5 2.5l-.94 2.06-2.06.94zm10 10l.94 2.06.94-2.06 2.06-.94-2.06-.94-.94-2.06-.94 2.06-2.06.94z\"/><path d=\"M17.41 7.96l-1.37-1.37c-.4-.4-.92-.59-1.43-.59-.52 0-1.04.2-1.43.59L10.3 9.45l-7.72 7.72c-.78.78-.78 2.05 0 2.83L4 21.41c.39.39.9.59 1.41.59.51 0 1.02-.2 1.41-.59l7.78-7.78 2.81-2.81c.8-.78.8-2.07 0-2.86zM5.41 20L4 18.59l7.72-7.72 1.47 1.35L5.41 20z\"/>\n",
              "  </svg>\n",
              "      </button>\n",
              "      \n",
              "  <style>\n",
              "    .colab-df-container {\n",
              "      display:flex;\n",
              "      flex-wrap:wrap;\n",
              "      gap: 12px;\n",
              "    }\n",
              "\n",
              "    .colab-df-convert {\n",
              "      background-color: #E8F0FE;\n",
              "      border: none;\n",
              "      border-radius: 50%;\n",
              "      cursor: pointer;\n",
              "      display: none;\n",
              "      fill: #1967D2;\n",
              "      height: 32px;\n",
              "      padding: 0 0 0 0;\n",
              "      width: 32px;\n",
              "    }\n",
              "\n",
              "    .colab-df-convert:hover {\n",
              "      background-color: #E2EBFA;\n",
              "      box-shadow: 0px 1px 2px rgba(60, 64, 67, 0.3), 0px 1px 3px 1px rgba(60, 64, 67, 0.15);\n",
              "      fill: #174EA6;\n",
              "    }\n",
              "\n",
              "    [theme=dark] .colab-df-convert {\n",
              "      background-color: #3B4455;\n",
              "      fill: #D2E3FC;\n",
              "    }\n",
              "\n",
              "    [theme=dark] .colab-df-convert:hover {\n",
              "      background-color: #434B5C;\n",
              "      box-shadow: 0px 1px 3px 1px rgba(0, 0, 0, 0.15);\n",
              "      filter: drop-shadow(0px 1px 2px rgba(0, 0, 0, 0.3));\n",
              "      fill: #FFFFFF;\n",
              "    }\n",
              "  </style>\n",
              "\n",
              "      <script>\n",
              "        const buttonEl =\n",
              "          document.querySelector('#df-1d259af0-a314-4789-a219-a1308dad8562 button.colab-df-convert');\n",
              "        buttonEl.style.display =\n",
              "          google.colab.kernel.accessAllowed ? 'block' : 'none';\n",
              "\n",
              "        async function convertToInteractive(key) {\n",
              "          const element = document.querySelector('#df-1d259af0-a314-4789-a219-a1308dad8562');\n",
              "          const dataTable =\n",
              "            await google.colab.kernel.invokeFunction('convertToInteractive',\n",
              "                                                     [key], {});\n",
              "          if (!dataTable) return;\n",
              "\n",
              "          const docLinkHtml = 'Like what you see? Visit the ' +\n",
              "            '<a target=\"_blank\" href=https://colab.research.google.com/notebooks/data_table.ipynb>data table notebook</a>'\n",
              "            + ' to learn more about interactive tables.';\n",
              "          element.innerHTML = '';\n",
              "          dataTable['output_type'] = 'display_data';\n",
              "          await google.colab.output.renderOutput(dataTable, element);\n",
              "          const docLink = document.createElement('div');\n",
              "          docLink.innerHTML = docLinkHtml;\n",
              "          element.appendChild(docLink);\n",
              "        }\n",
              "      </script>\n",
              "    </div>\n",
              "  </div>\n",
              "  "
            ]
          },
          "metadata": {},
          "execution_count": 10
        }
      ]
    },
    {
      "cell_type": "code",
      "source": [
        "# data['country name'] = data\n",
        "dictTaiwn = { 'year': [2020, 2019, 2018, 2017, 2016, 2015,2014,2013,2012,2011,2010,2009,2008],\n",
        "             'country_name': ['Taiwan','Taiwan','Taiwan','Taiwan','Taiwan','Taiwan','Taiwan','Taiwan','Taiwan','Taiwan','Taiwan','Taiwan','Taiwan' ],\n",
        "             'gdp_per_capita': [28571.44,25903.17,25825.57,25061.62,23070.73,22752.99,22844.32,21945.46,21256.36,20838.59,19181.36,16904.54,18053.59]}\n",
        "dftai = pd.DataFrame(dictTaiwn)\n",
        "taiwan2018 = {'year': 2018,\n",
        "              'Country': 'Taiwan',\n",
        "              'gdp_per_capita':25825.57 }\n",
        "taiwan2010 = {'year': 2010,\n",
        "              'Country': 'Taiwan',\n",
        "              'gdp_per_capita':19181.36 }\n",
        "Palestine2018 = {'year':2018,\n",
        "              'Country': 'Palestine',\n",
        "              'gdp_per_capita':3562.33,}\n",
        "Palestine2010 = {'year': 2010,\n",
        "              'Country': 'Palestine',\n",
        "              'gdp_per_capita':2557.08}\n",
        "somalia2018 = {'year': 2018,\n",
        "              'Country': 'Somalia',\n",
        "              'gdp_per_capita':1124.735945}\n",
        "somalia2010 = {'year': 2010,\n",
        "              'Country': 'Somalia',\n",
        "              'gdp_per_capita':223}\n",
        "anguilla2010 = {'year': 2010,\n",
        "              'Country': 'Anguilla',\n",
        "              'gdp_per_capita':20461}\n",
        "anguilla2018 = {'year': 2018,\n",
        "              'Country': 'Anguilla',\n",
        "              'gdp_per_capita':21241}\n",
        "ptorico2010 = {'year': 2010,\n",
        "              'Country': 'Puerto Rico',\n",
        "              'gdp_per_capita':26461}\n",
        "ptorico2018 = {'year': 2018,\n",
        "              'Country': 'Puerto Rico',\n",
        "              'gdp_per_capita':30416}\n",
        "Afghanistan2010 = {'year': 2010,\n",
        "              'Country': 'Afghanistan',\n",
        "              'gdp_per_capita':521}\n",
        "britishViginIslands2010 = {'year': 2010,\n",
        "              'Country': 'Virgin Islands (British)',\n",
        "              'gdp_per_capita':40431}\n",
        "britishViginIslands2018 = {'year': 2018,\n",
        "              'Country': 'Virgin Islands (British)',\n",
        "              'gdp_per_capita':45554}\n",
        "cookIslands2010 = {'year': 2010,\n",
        "              'Country': 'Cook Islands',\n",
        "              'gdp_per_capita':13990}\n",
        "cookIslands2018 = {'year': 2018,\n",
        "              'Country': 'Cook Islands',\n",
        "              'gdp_per_capita':21023}\n",
        "montserrat2010 = {'year': 2010,\n",
        "              'Country': 'Montserrat',\n",
        "              'gdp_per_capita':11242}\n",
        "montserrat2018 = {'year': 2018,\n",
        "              'Country': 'Montserrat',\n",
        "              'gdp_per_capita':14420}\n",
        "\n",
        "\n",
        "stMaarten2010= {'year': 2010,\n",
        "              'Country': 'St-Martin / St Maarten',\n",
        "              'gdp_per_capita':17640}\n",
        "stMaarten2018= {'year': 2018,\n",
        "              'Country': 'St-Martin / St Maarten',\n",
        "              'gdp_per_capita':28988.3}\n",
        "# dftai.head()\n",
        "\n"
      ],
      "metadata": {
        "id": "tu0g5q-QAplq"
      },
      "execution_count": null,
      "outputs": []
    },
    {
      "cell_type": "code",
      "source": [
        "df_gdppc_countries.loc[len(df_gdppc_countries)] = taiwan2010\n",
        "df_gdppc_countries.loc[len(df_gdppc_countries)] = taiwan2018\n",
        "df_gdppc_countries.loc[len(df_gdppc_countries)] = Palestine2010\n",
        "df_gdppc_countries.loc[len(df_gdppc_countries)] = Palestine2018\n",
        "df_gdppc_countries.loc[len(df_gdppc_countries)] = somalia2018\n",
        "df_gdppc_countries.loc[len(df_gdppc_countries)] = somalia2010\n",
        "\n",
        "df_gdppc_countries.loc[len(df_gdppc_countries)] = anguilla2010\n",
        "df_gdppc_countries.loc[len(df_gdppc_countries)] = anguilla2018\n",
        "df_gdppc_countries.loc[len(df_gdppc_countries)] = ptorico2010\n",
        "df_gdppc_countries.loc[len(df_gdppc_countries)] = ptorico2018\n",
        "df_gdppc_countries.loc[len(df_gdppc_countries)] = britishViginIslands2010\n",
        "df_gdppc_countries.loc[len(df_gdppc_countries)] = britishViginIslands2018\n",
        "df_gdppc_countries.loc[len(df_gdppc_countries)] = cookIslands2010\n",
        "df_gdppc_countries.loc[len(df_gdppc_countries)] = cookIslands2018\n",
        "df_gdppc_countries.loc[len(df_gdppc_countries)] = montserrat2010\n",
        "df_gdppc_countries.loc[len(df_gdppc_countries)] = montserrat2018\n",
        "df_gdppc_countries.loc[len(df_gdppc_countries)] = stMaarten2010\n",
        "\n",
        "df_gdppc_countries.loc[len(df_gdppc_countries)] = stMaarten2018\n",
        "\n",
        "\n",
        "\n",
        "# df_gdppc_countries.loc[len(df_gdppc_countries)] = Afghanistan2010\n",
        "\n",
        "\n",
        "\n",
        "df_gdppc_countries\n"
      ],
      "metadata": {
        "colab": {
          "base_uri": "https://localhost:8080/",
          "height": 423
        },
        "id": "1nQsI2aJFnkn",
        "outputId": "107cef2f-4dd3-4427-ea6c-f324003cca55"
      },
      "execution_count": null,
      "outputs": [
        {
          "output_type": "execute_result",
          "data": {
            "text/plain": [
              "                     Country country_code  year  gdp_per_capita\n",
              "0                      Aruba          ABW  2000        21023.16\n",
              "1                Afghanistan          AFG  2000             NaN\n",
              "2                     Angola          AGO  2000          556.88\n",
              "3                    Albania          ALB  2000         1126.68\n",
              "4                    Andorra          AND  2000        21620.49\n",
              "...                      ...          ...   ...             ...\n",
              "4749            Cook Islands          NaN  2018        21023.00\n",
              "4750              Montserrat          NaN  2010        11242.00\n",
              "4751              Montserrat          NaN  2018        14420.00\n",
              "4752  St-Martin / St Maarten          NaN  2010        17640.00\n",
              "4753  St-Martin / St Maarten          NaN  2018        28988.30\n",
              "\n",
              "[4754 rows x 4 columns]"
            ],
            "text/html": [
              "\n",
              "  <div id=\"df-9f6a1d98-82ef-4103-8996-3caf47a06d5e\">\n",
              "    <div class=\"colab-df-container\">\n",
              "      <div>\n",
              "<style scoped>\n",
              "    .dataframe tbody tr th:only-of-type {\n",
              "        vertical-align: middle;\n",
              "    }\n",
              "\n",
              "    .dataframe tbody tr th {\n",
              "        vertical-align: top;\n",
              "    }\n",
              "\n",
              "    .dataframe thead th {\n",
              "        text-align: right;\n",
              "    }\n",
              "</style>\n",
              "<table border=\"1\" class=\"dataframe\">\n",
              "  <thead>\n",
              "    <tr style=\"text-align: right;\">\n",
              "      <th></th>\n",
              "      <th>Country</th>\n",
              "      <th>country_code</th>\n",
              "      <th>year</th>\n",
              "      <th>gdp_per_capita</th>\n",
              "    </tr>\n",
              "  </thead>\n",
              "  <tbody>\n",
              "    <tr>\n",
              "      <th>0</th>\n",
              "      <td>Aruba</td>\n",
              "      <td>ABW</td>\n",
              "      <td>2000</td>\n",
              "      <td>21023.16</td>\n",
              "    </tr>\n",
              "    <tr>\n",
              "      <th>1</th>\n",
              "      <td>Afghanistan</td>\n",
              "      <td>AFG</td>\n",
              "      <td>2000</td>\n",
              "      <td>NaN</td>\n",
              "    </tr>\n",
              "    <tr>\n",
              "      <th>2</th>\n",
              "      <td>Angola</td>\n",
              "      <td>AGO</td>\n",
              "      <td>2000</td>\n",
              "      <td>556.88</td>\n",
              "    </tr>\n",
              "    <tr>\n",
              "      <th>3</th>\n",
              "      <td>Albania</td>\n",
              "      <td>ALB</td>\n",
              "      <td>2000</td>\n",
              "      <td>1126.68</td>\n",
              "    </tr>\n",
              "    <tr>\n",
              "      <th>4</th>\n",
              "      <td>Andorra</td>\n",
              "      <td>AND</td>\n",
              "      <td>2000</td>\n",
              "      <td>21620.49</td>\n",
              "    </tr>\n",
              "    <tr>\n",
              "      <th>...</th>\n",
              "      <td>...</td>\n",
              "      <td>...</td>\n",
              "      <td>...</td>\n",
              "      <td>...</td>\n",
              "    </tr>\n",
              "    <tr>\n",
              "      <th>4749</th>\n",
              "      <td>Cook Islands</td>\n",
              "      <td>NaN</td>\n",
              "      <td>2018</td>\n",
              "      <td>21023.00</td>\n",
              "    </tr>\n",
              "    <tr>\n",
              "      <th>4750</th>\n",
              "      <td>Montserrat</td>\n",
              "      <td>NaN</td>\n",
              "      <td>2010</td>\n",
              "      <td>11242.00</td>\n",
              "    </tr>\n",
              "    <tr>\n",
              "      <th>4751</th>\n",
              "      <td>Montserrat</td>\n",
              "      <td>NaN</td>\n",
              "      <td>2018</td>\n",
              "      <td>14420.00</td>\n",
              "    </tr>\n",
              "    <tr>\n",
              "      <th>4752</th>\n",
              "      <td>St-Martin / St Maarten</td>\n",
              "      <td>NaN</td>\n",
              "      <td>2010</td>\n",
              "      <td>17640.00</td>\n",
              "    </tr>\n",
              "    <tr>\n",
              "      <th>4753</th>\n",
              "      <td>St-Martin / St Maarten</td>\n",
              "      <td>NaN</td>\n",
              "      <td>2018</td>\n",
              "      <td>28988.30</td>\n",
              "    </tr>\n",
              "  </tbody>\n",
              "</table>\n",
              "<p>4754 rows × 4 columns</p>\n",
              "</div>\n",
              "      <button class=\"colab-df-convert\" onclick=\"convertToInteractive('df-9f6a1d98-82ef-4103-8996-3caf47a06d5e')\"\n",
              "              title=\"Convert this dataframe to an interactive table.\"\n",
              "              style=\"display:none;\">\n",
              "        \n",
              "  <svg xmlns=\"http://www.w3.org/2000/svg\" height=\"24px\"viewBox=\"0 0 24 24\"\n",
              "       width=\"24px\">\n",
              "    <path d=\"M0 0h24v24H0V0z\" fill=\"none\"/>\n",
              "    <path d=\"M18.56 5.44l.94 2.06.94-2.06 2.06-.94-2.06-.94-.94-2.06-.94 2.06-2.06.94zm-11 1L8.5 8.5l.94-2.06 2.06-.94-2.06-.94L8.5 2.5l-.94 2.06-2.06.94zm10 10l.94 2.06.94-2.06 2.06-.94-2.06-.94-.94-2.06-.94 2.06-2.06.94z\"/><path d=\"M17.41 7.96l-1.37-1.37c-.4-.4-.92-.59-1.43-.59-.52 0-1.04.2-1.43.59L10.3 9.45l-7.72 7.72c-.78.78-.78 2.05 0 2.83L4 21.41c.39.39.9.59 1.41.59.51 0 1.02-.2 1.41-.59l7.78-7.78 2.81-2.81c.8-.78.8-2.07 0-2.86zM5.41 20L4 18.59l7.72-7.72 1.47 1.35L5.41 20z\"/>\n",
              "  </svg>\n",
              "      </button>\n",
              "      \n",
              "  <style>\n",
              "    .colab-df-container {\n",
              "      display:flex;\n",
              "      flex-wrap:wrap;\n",
              "      gap: 12px;\n",
              "    }\n",
              "\n",
              "    .colab-df-convert {\n",
              "      background-color: #E8F0FE;\n",
              "      border: none;\n",
              "      border-radius: 50%;\n",
              "      cursor: pointer;\n",
              "      display: none;\n",
              "      fill: #1967D2;\n",
              "      height: 32px;\n",
              "      padding: 0 0 0 0;\n",
              "      width: 32px;\n",
              "    }\n",
              "\n",
              "    .colab-df-convert:hover {\n",
              "      background-color: #E2EBFA;\n",
              "      box-shadow: 0px 1px 2px rgba(60, 64, 67, 0.3), 0px 1px 3px 1px rgba(60, 64, 67, 0.15);\n",
              "      fill: #174EA6;\n",
              "    }\n",
              "\n",
              "    [theme=dark] .colab-df-convert {\n",
              "      background-color: #3B4455;\n",
              "      fill: #D2E3FC;\n",
              "    }\n",
              "\n",
              "    [theme=dark] .colab-df-convert:hover {\n",
              "      background-color: #434B5C;\n",
              "      box-shadow: 0px 1px 3px 1px rgba(0, 0, 0, 0.15);\n",
              "      filter: drop-shadow(0px 1px 2px rgba(0, 0, 0, 0.3));\n",
              "      fill: #FFFFFF;\n",
              "    }\n",
              "  </style>\n",
              "\n",
              "      <script>\n",
              "        const buttonEl =\n",
              "          document.querySelector('#df-9f6a1d98-82ef-4103-8996-3caf47a06d5e button.colab-df-convert');\n",
              "        buttonEl.style.display =\n",
              "          google.colab.kernel.accessAllowed ? 'block' : 'none';\n",
              "\n",
              "        async function convertToInteractive(key) {\n",
              "          const element = document.querySelector('#df-9f6a1d98-82ef-4103-8996-3caf47a06d5e');\n",
              "          const dataTable =\n",
              "            await google.colab.kernel.invokeFunction('convertToInteractive',\n",
              "                                                     [key], {});\n",
              "          if (!dataTable) return;\n",
              "\n",
              "          const docLinkHtml = 'Like what you see? Visit the ' +\n",
              "            '<a target=\"_blank\" href=https://colab.research.google.com/notebooks/data_table.ipynb>data table notebook</a>'\n",
              "            + ' to learn more about interactive tables.';\n",
              "          element.innerHTML = '';\n",
              "          dataTable['output_type'] = 'display_data';\n",
              "          await google.colab.output.renderOutput(dataTable, element);\n",
              "          const docLink = document.createElement('div');\n",
              "          docLink.innerHTML = docLinkHtml;\n",
              "          element.appendChild(docLink);\n",
              "        }\n",
              "      </script>\n",
              "    </div>\n",
              "  </div>\n",
              "  "
            ]
          },
          "metadata": {},
          "execution_count": 94
        }
      ]
    },
    {
      "cell_type": "code",
      "source": [
        "\n",
        "df_gpd2018=filtrarBaseGDPporAnio(df_gdppc_countries,2018)\n",
        "df_gpd2018=df_gpd2018.rename(columns={'Country':'country_name'}).copy()\n",
        "t_gdp_2018=df_gpd2018[['country_name','gdp_per_capita']].copy()\n",
        "# t_gpd_2018 = t_gdp_2018['gdp_per_capita'].fillna(0).copy()\n",
        "t_gdp_2018=t_gdp_2018.dropna(subset=['gdp_per_capita']).copy()\n",
        "\n",
        "t_gdp_2018.sample(n=10)\n",
        "t_gdp_2018.info()\n",
        "\n"
      ],
      "metadata": {
        "colab": {
          "base_uri": "https://localhost:8080/",
          "height": 519
        },
        "id": "Rydo1ZydMZwQ",
        "outputId": "6b64a5b7-1ff8-4c28-d45d-a176135d13a4"
      },
      "execution_count": null,
      "outputs": [
        {
          "output_type": "execute_result",
          "data": {
            "text/plain": [
              "                 country_name  gdp_per_capita\n",
              "205                  Thailand         7124.56\n",
              "16                      Benin         1194.44\n",
              "146                Mauritania         1749.95\n",
              "245  Virgin Islands (British)        45554.00\n",
              "184                 Singapore        66859.34\n",
              "100                      Iraq         5601.47\n",
              "178                   Romania        12494.48\n",
              "255                 Palestine         3562.33\n",
              "206                Tajikistan          850.67\n",
              "144  Northern Mariana Islands        25882.63"
            ],
            "text/html": [
              "\n",
              "  <div id=\"df-e462295b-39d7-402c-aafc-b60bdc2a04b2\">\n",
              "    <div class=\"colab-df-container\">\n",
              "      <div>\n",
              "<style scoped>\n",
              "    .dataframe tbody tr th:only-of-type {\n",
              "        vertical-align: middle;\n",
              "    }\n",
              "\n",
              "    .dataframe tbody tr th {\n",
              "        vertical-align: top;\n",
              "    }\n",
              "\n",
              "    .dataframe thead th {\n",
              "        text-align: right;\n",
              "    }\n",
              "</style>\n",
              "<table border=\"1\" class=\"dataframe\">\n",
              "  <thead>\n",
              "    <tr style=\"text-align: right;\">\n",
              "      <th></th>\n",
              "      <th>country_name</th>\n",
              "      <th>gdp_per_capita</th>\n",
              "    </tr>\n",
              "  </thead>\n",
              "  <tbody>\n",
              "    <tr>\n",
              "      <th>205</th>\n",
              "      <td>Thailand</td>\n",
              "      <td>7124.56</td>\n",
              "    </tr>\n",
              "    <tr>\n",
              "      <th>16</th>\n",
              "      <td>Benin</td>\n",
              "      <td>1194.44</td>\n",
              "    </tr>\n",
              "    <tr>\n",
              "      <th>146</th>\n",
              "      <td>Mauritania</td>\n",
              "      <td>1749.95</td>\n",
              "    </tr>\n",
              "    <tr>\n",
              "      <th>245</th>\n",
              "      <td>Virgin Islands (British)</td>\n",
              "      <td>45554.00</td>\n",
              "    </tr>\n",
              "    <tr>\n",
              "      <th>184</th>\n",
              "      <td>Singapore</td>\n",
              "      <td>66859.34</td>\n",
              "    </tr>\n",
              "    <tr>\n",
              "      <th>100</th>\n",
              "      <td>Iraq</td>\n",
              "      <td>5601.47</td>\n",
              "    </tr>\n",
              "    <tr>\n",
              "      <th>178</th>\n",
              "      <td>Romania</td>\n",
              "      <td>12494.48</td>\n",
              "    </tr>\n",
              "    <tr>\n",
              "      <th>255</th>\n",
              "      <td>Palestine</td>\n",
              "      <td>3562.33</td>\n",
              "    </tr>\n",
              "    <tr>\n",
              "      <th>206</th>\n",
              "      <td>Tajikistan</td>\n",
              "      <td>850.67</td>\n",
              "    </tr>\n",
              "    <tr>\n",
              "      <th>144</th>\n",
              "      <td>Northern Mariana Islands</td>\n",
              "      <td>25882.63</td>\n",
              "    </tr>\n",
              "  </tbody>\n",
              "</table>\n",
              "</div>\n",
              "      <button class=\"colab-df-convert\" onclick=\"convertToInteractive('df-e462295b-39d7-402c-aafc-b60bdc2a04b2')\"\n",
              "              title=\"Convert this dataframe to an interactive table.\"\n",
              "              style=\"display:none;\">\n",
              "        \n",
              "  <svg xmlns=\"http://www.w3.org/2000/svg\" height=\"24px\"viewBox=\"0 0 24 24\"\n",
              "       width=\"24px\">\n",
              "    <path d=\"M0 0h24v24H0V0z\" fill=\"none\"/>\n",
              "    <path d=\"M18.56 5.44l.94 2.06.94-2.06 2.06-.94-2.06-.94-.94-2.06-.94 2.06-2.06.94zm-11 1L8.5 8.5l.94-2.06 2.06-.94-2.06-.94L8.5 2.5l-.94 2.06-2.06.94zm10 10l.94 2.06.94-2.06 2.06-.94-2.06-.94-.94-2.06-.94 2.06-2.06.94z\"/><path d=\"M17.41 7.96l-1.37-1.37c-.4-.4-.92-.59-1.43-.59-.52 0-1.04.2-1.43.59L10.3 9.45l-7.72 7.72c-.78.78-.78 2.05 0 2.83L4 21.41c.39.39.9.59 1.41.59.51 0 1.02-.2 1.41-.59l7.78-7.78 2.81-2.81c.8-.78.8-2.07 0-2.86zM5.41 20L4 18.59l7.72-7.72 1.47 1.35L5.41 20z\"/>\n",
              "  </svg>\n",
              "      </button>\n",
              "      \n",
              "  <style>\n",
              "    .colab-df-container {\n",
              "      display:flex;\n",
              "      flex-wrap:wrap;\n",
              "      gap: 12px;\n",
              "    }\n",
              "\n",
              "    .colab-df-convert {\n",
              "      background-color: #E8F0FE;\n",
              "      border: none;\n",
              "      border-radius: 50%;\n",
              "      cursor: pointer;\n",
              "      display: none;\n",
              "      fill: #1967D2;\n",
              "      height: 32px;\n",
              "      padding: 0 0 0 0;\n",
              "      width: 32px;\n",
              "    }\n",
              "\n",
              "    .colab-df-convert:hover {\n",
              "      background-color: #E2EBFA;\n",
              "      box-shadow: 0px 1px 2px rgba(60, 64, 67, 0.3), 0px 1px 3px 1px rgba(60, 64, 67, 0.15);\n",
              "      fill: #174EA6;\n",
              "    }\n",
              "\n",
              "    [theme=dark] .colab-df-convert {\n",
              "      background-color: #3B4455;\n",
              "      fill: #D2E3FC;\n",
              "    }\n",
              "\n",
              "    [theme=dark] .colab-df-convert:hover {\n",
              "      background-color: #434B5C;\n",
              "      box-shadow: 0px 1px 3px 1px rgba(0, 0, 0, 0.15);\n",
              "      filter: drop-shadow(0px 1px 2px rgba(0, 0, 0, 0.3));\n",
              "      fill: #FFFFFF;\n",
              "    }\n",
              "  </style>\n",
              "\n",
              "      <script>\n",
              "        const buttonEl =\n",
              "          document.querySelector('#df-e462295b-39d7-402c-aafc-b60bdc2a04b2 button.colab-df-convert');\n",
              "        buttonEl.style.display =\n",
              "          google.colab.kernel.accessAllowed ? 'block' : 'none';\n",
              "\n",
              "        async function convertToInteractive(key) {\n",
              "          const element = document.querySelector('#df-e462295b-39d7-402c-aafc-b60bdc2a04b2');\n",
              "          const dataTable =\n",
              "            await google.colab.kernel.invokeFunction('convertToInteractive',\n",
              "                                                     [key], {});\n",
              "          if (!dataTable) return;\n",
              "\n",
              "          const docLinkHtml = 'Like what you see? Visit the ' +\n",
              "            '<a target=\"_blank\" href=https://colab.research.google.com/notebooks/data_table.ipynb>data table notebook</a>'\n",
              "            + ' to learn more about interactive tables.';\n",
              "          element.innerHTML = '';\n",
              "          dataTable['output_type'] = 'display_data';\n",
              "          await google.colab.output.renderOutput(dataTable, element);\n",
              "          const docLink = document.createElement('div');\n",
              "          docLink.innerHTML = docLinkHtml;\n",
              "          element.appendChild(docLink);\n",
              "        }\n",
              "      </script>\n",
              "    </div>\n",
              "  </div>\n",
              "  "
            ]
          },
          "metadata": {},
          "execution_count": 136
        },
        {
          "output_type": "stream",
          "name": "stdout",
          "text": [
            "<class 'pandas.core.frame.DataFrame'>\n",
            "Int64Index: 263 entries, 0 to 270\n",
            "Data columns (total 2 columns):\n",
            " #   Column          Non-Null Count  Dtype  \n",
            "---  ------          --------------  -----  \n",
            " 0   country_name    263 non-null    object \n",
            " 1   gdp_per_capita  263 non-null    float64\n",
            "dtypes: float64(1), object(1)\n",
            "memory usage: 6.2+ KB\n"
          ]
        }
      ]
    },
    {
      "cell_type": "markdown",
      "source": [
        "## Cálculo de Complejidad Económica"
      ],
      "metadata": {
        "id": "gBOIcSYEkaSw"
      }
    },
    {
      "cell_type": "markdown",
      "source": [
        "### Paquetes ecomplexity"
      ],
      "metadata": {
        "id": "B8TiYs_WWeL-"
      }
    },
    {
      "cell_type": "code",
      "source": [
        "!pip install ecomplexity\n",
        "print('py-ecomplexity instalado')"
      ],
      "metadata": {
        "colab": {
          "base_uri": "https://localhost:8080/"
        },
        "id": "LvN_WLAxqt5E",
        "outputId": "6171c5ef-49cc-4393-ad22-f0920f5945ea"
      },
      "execution_count": null,
      "outputs": [
        {
          "output_type": "stream",
          "name": "stdout",
          "text": [
            "Looking in indexes: https://pypi.org/simple, https://us-python.pkg.dev/colab-wheels/public/simple/\n",
            "Collecting ecomplexity\n",
            "  Downloading ecomplexity-0.5.2.tar.gz (9.1 kB)\n",
            "  Preparing metadata (setup.py) ... \u001b[?25l\u001b[?25hdone\n",
            "Requirement already satisfied: pandas>0.23.0 in /usr/local/lib/python3.9/dist-packages (from ecomplexity) (1.5.3)\n",
            "Requirement already satisfied: numpy>1.15.0 in /usr/local/lib/python3.9/dist-packages (from ecomplexity) (1.22.4)\n",
            "Requirement already satisfied: python-dateutil>=2.8.1 in /usr/local/lib/python3.9/dist-packages (from pandas>0.23.0->ecomplexity) (2.8.2)\n",
            "Requirement already satisfied: pytz>=2020.1 in /usr/local/lib/python3.9/dist-packages (from pandas>0.23.0->ecomplexity) (2022.7.1)\n",
            "Requirement already satisfied: six>=1.5 in /usr/local/lib/python3.9/dist-packages (from python-dateutil>=2.8.1->pandas>0.23.0->ecomplexity) (1.16.0)\n",
            "Building wheels for collected packages: ecomplexity\n",
            "  Building wheel for ecomplexity (setup.py) ... \u001b[?25l\u001b[?25hdone\n",
            "  Created wheel for ecomplexity: filename=ecomplexity-0.5.2-py3-none-any.whl size=11283 sha256=e9ce247541e42cbd41c7f386b31137f0e8a9b4ec884383c70077081bafdc01f2\n",
            "  Stored in directory: /root/.cache/pip/wheels/c7/14/29/d28c7286333b75599f8f60681634819c63330cc3b89cf85f61\n",
            "Successfully built ecomplexity\n",
            "Installing collected packages: ecomplexity\n",
            "Successfully installed ecomplexity-0.5.2\n",
            "py-ecomplexity instalado\n"
          ]
        }
      ]
    },
    {
      "cell_type": "code",
      "source": [
        "from ecomplexity import ecomplexity\n",
        "from ecomplexity import proximity\n",
        "\n",
        "# To use py-ecomplexity, specify the following columns\n",
        "# cols_input: dict of column names for time, location, product and value.\n",
        "    #Example: {'time':'year', 'loc':'origin', 'prod':'hs92', 'val':'export_val'}\n",
        "    \n",
        "trade_cols = {'time':'year',\n",
        "              'loc':'country_name',\n",
        "              'prod':'product_name',\n",
        "              'val':'export_value'}\n",
        "\n",
        "print('Calculando complejidad económica')\n",
        "df_ec = ecomplexity(df_base, trade_cols)\n",
        "print('Cálculo finalizado')\n",
        "\n"
      ],
      "metadata": {
        "colab": {
          "base_uri": "https://localhost:8080/"
        },
        "id": "P2BY51Xmqxr5",
        "outputId": "7ea36377-e987-4688-d9fd-a3fa409d857d"
      },
      "execution_count": null,
      "outputs": [
        {
          "output_type": "stream",
          "name": "stdout",
          "text": [
            "Calculando complejidad económica\n",
            "1995\n",
            "1996\n",
            "1997\n",
            "1998\n",
            "1999\n",
            "2000\n",
            "2001\n",
            "2002\n",
            "2003\n",
            "2004\n",
            "2005\n",
            "2006\n",
            "2007\n",
            "2008\n",
            "2009\n",
            "2010\n",
            "2011\n",
            "2012\n",
            "2013\n",
            "2014\n",
            "2015\n",
            "2016\n",
            "2017\n",
            "2018\n",
            "2019\n",
            "2020\n",
            "Cálculo finalizado\n"
          ]
        }
      ]
    },
    {
      "cell_type": "code",
      "source": [
        "df_complexity = df_ec[['country_name',\n",
        "               'product_name',\n",
        "               'product_code',\n",
        "               'export_value',\n",
        "               'rca',\n",
        "               'mcp',\n",
        "               'density',\n",
        "               'year',\n",
        "               'pci',\n",
        "               'eci',\n",
        "               'coi',\n",
        "               'cog']].copy()"
      ],
      "metadata": {
        "id": "LvKhWugl41jj"
      },
      "execution_count": null,
      "outputs": []
    },
    {
      "cell_type": "code",
      "source": [
        "# Muestro resultados\n",
        "df_complexity.head(n=8)"
      ],
      "metadata": {
        "colab": {
          "base_uri": "https://localhost:8080/"
        },
        "id": "MVa_OUd3AGRN",
        "outputId": "9b7d5f54-3c9b-4f1f-9897-d1f19167d64d"
      },
      "execution_count": null,
      "outputs": [
        {
          "output_type": "execute_result",
          "data": {
            "text/plain": [
              "  country_name                                                                                                                                                                                 product_name  product_code  export_value  rca  mcp  density  year  pci   eci   coi  cog\n",
              "0  Afghanistan          Abrasive powder or grain; natural or artificial, on a base of textile material, of paper, paperboard or of other material, whether or not cut to shape or sewn or otherwise made up          6805          1327 0.05    0     0.04  1995 3.01 -0.33 -0.59 1.37\n",
              "1  Afghanistan                                                                                                                                             Accordions and similar instruments; mouth organs          9204             0 0.00    0     0.03  1995 3.88 -0.33 -0.59 1.05\n",
              "2  Afghanistan                                                  Acetals and hemiacetals; whether or not with other oxygen function, and their halogenated, sulphonated, nitrated or nitrostated derivatives          2911             0 0.00    0     0.03  1995 3.77 -0.33 -0.59 1.42\n",
              "3  Afghanistan             Acids; carboxylic acid with additional oxygen function and their anhydrides, halides, peroxides, peroxyacids; their halogenated, sulphonated, nitrated or nitrosated derivatives          2918             0 0.00    0     0.04  1995 2.37 -0.33 -0.59 0.99\n",
              "4  Afghanistan                                       Acids; polycarboxylic acids, their anhydrides, halides, peroxides and peroxy-acids; their halogenated, sulphonated, nitrated or nitrosated derivatives          2917             0 0.00    0     0.05  1995 1.50 -0.33 -0.59 0.74\n",
              "5  Afghanistan                   Acids; saturated acyclic monocarboxylic acids and their anhydrides, halides, peroxides and peroxyacids; their halogenated, sulphonated, nitrated or nitrosated derivatives          2915             0 0.00    0     0.03  1995 3.03 -0.33 -0.59 1.30\n",
              "6  Afghanistan  Acids; unsaturated acyclic monocarboxylic, cyclic monocarboxylic , their anhydrides, halides, peroxides and peroxyacids; their halogenated, sulphonated, nitrated or nitrosated derivatives          2916             0 0.00    0     0.03  1995 3.33 -0.33 -0.59 1.51\n",
              "7  Afghanistan                                                                                                                                                            Acrylic polymers in primary forms          3906             0 0.00    0     0.03  1995 3.76 -0.33 -0.59 1.19"
            ],
            "text/html": [
              "\n",
              "  <div id=\"df-438b251a-9126-412d-9993-fd4ec690a10e\">\n",
              "    <div class=\"colab-df-container\">\n",
              "      <div>\n",
              "<style scoped>\n",
              "    .dataframe tbody tr th:only-of-type {\n",
              "        vertical-align: middle;\n",
              "    }\n",
              "\n",
              "    .dataframe tbody tr th {\n",
              "        vertical-align: top;\n",
              "    }\n",
              "\n",
              "    .dataframe thead th {\n",
              "        text-align: right;\n",
              "    }\n",
              "</style>\n",
              "<table border=\"1\" class=\"dataframe\">\n",
              "  <thead>\n",
              "    <tr style=\"text-align: right;\">\n",
              "      <th></th>\n",
              "      <th>country_name</th>\n",
              "      <th>product_name</th>\n",
              "      <th>product_code</th>\n",
              "      <th>export_value</th>\n",
              "      <th>rca</th>\n",
              "      <th>mcp</th>\n",
              "      <th>density</th>\n",
              "      <th>year</th>\n",
              "      <th>pci</th>\n",
              "      <th>eci</th>\n",
              "      <th>coi</th>\n",
              "      <th>cog</th>\n",
              "    </tr>\n",
              "  </thead>\n",
              "  <tbody>\n",
              "    <tr>\n",
              "      <th>0</th>\n",
              "      <td>Afghanistan</td>\n",
              "      <td>Abrasive powder or grain; natural or artificial, on a base of textile material, of paper, paperboard or of other material, whether or not cut to shape or sewn or otherwise made up</td>\n",
              "      <td>6805</td>\n",
              "      <td>1327</td>\n",
              "      <td>0.05</td>\n",
              "      <td>0</td>\n",
              "      <td>0.04</td>\n",
              "      <td>1995</td>\n",
              "      <td>3.01</td>\n",
              "      <td>-0.33</td>\n",
              "      <td>-0.59</td>\n",
              "      <td>1.37</td>\n",
              "    </tr>\n",
              "    <tr>\n",
              "      <th>1</th>\n",
              "      <td>Afghanistan</td>\n",
              "      <td>Accordions and similar instruments; mouth organs</td>\n",
              "      <td>9204</td>\n",
              "      <td>0</td>\n",
              "      <td>0.00</td>\n",
              "      <td>0</td>\n",
              "      <td>0.03</td>\n",
              "      <td>1995</td>\n",
              "      <td>3.88</td>\n",
              "      <td>-0.33</td>\n",
              "      <td>-0.59</td>\n",
              "      <td>1.05</td>\n",
              "    </tr>\n",
              "    <tr>\n",
              "      <th>2</th>\n",
              "      <td>Afghanistan</td>\n",
              "      <td>Acetals and hemiacetals; whether or not with other oxygen function, and their halogenated, sulphonated, nitrated or nitrostated derivatives</td>\n",
              "      <td>2911</td>\n",
              "      <td>0</td>\n",
              "      <td>0.00</td>\n",
              "      <td>0</td>\n",
              "      <td>0.03</td>\n",
              "      <td>1995</td>\n",
              "      <td>3.77</td>\n",
              "      <td>-0.33</td>\n",
              "      <td>-0.59</td>\n",
              "      <td>1.42</td>\n",
              "    </tr>\n",
              "    <tr>\n",
              "      <th>3</th>\n",
              "      <td>Afghanistan</td>\n",
              "      <td>Acids; carboxylic acid with additional oxygen function and their anhydrides, halides, peroxides, peroxyacids; their halogenated, sulphonated, nitrated or nitrosated derivatives</td>\n",
              "      <td>2918</td>\n",
              "      <td>0</td>\n",
              "      <td>0.00</td>\n",
              "      <td>0</td>\n",
              "      <td>0.04</td>\n",
              "      <td>1995</td>\n",
              "      <td>2.37</td>\n",
              "      <td>-0.33</td>\n",
              "      <td>-0.59</td>\n",
              "      <td>0.99</td>\n",
              "    </tr>\n",
              "    <tr>\n",
              "      <th>4</th>\n",
              "      <td>Afghanistan</td>\n",
              "      <td>Acids; polycarboxylic acids, their anhydrides, halides, peroxides and peroxy-acids; their halogenated, sulphonated, nitrated or nitrosated derivatives</td>\n",
              "      <td>2917</td>\n",
              "      <td>0</td>\n",
              "      <td>0.00</td>\n",
              "      <td>0</td>\n",
              "      <td>0.05</td>\n",
              "      <td>1995</td>\n",
              "      <td>1.50</td>\n",
              "      <td>-0.33</td>\n",
              "      <td>-0.59</td>\n",
              "      <td>0.74</td>\n",
              "    </tr>\n",
              "    <tr>\n",
              "      <th>5</th>\n",
              "      <td>Afghanistan</td>\n",
              "      <td>Acids; saturated acyclic monocarboxylic acids and their anhydrides, halides, peroxides and peroxyacids; their halogenated, sulphonated, nitrated or nitrosated derivatives</td>\n",
              "      <td>2915</td>\n",
              "      <td>0</td>\n",
              "      <td>0.00</td>\n",
              "      <td>0</td>\n",
              "      <td>0.03</td>\n",
              "      <td>1995</td>\n",
              "      <td>3.03</td>\n",
              "      <td>-0.33</td>\n",
              "      <td>-0.59</td>\n",
              "      <td>1.30</td>\n",
              "    </tr>\n",
              "    <tr>\n",
              "      <th>6</th>\n",
              "      <td>Afghanistan</td>\n",
              "      <td>Acids; unsaturated acyclic monocarboxylic, cyclic monocarboxylic , their anhydrides, halides, peroxides and peroxyacids; their halogenated, sulphonated, nitrated or nitrosated derivatives</td>\n",
              "      <td>2916</td>\n",
              "      <td>0</td>\n",
              "      <td>0.00</td>\n",
              "      <td>0</td>\n",
              "      <td>0.03</td>\n",
              "      <td>1995</td>\n",
              "      <td>3.33</td>\n",
              "      <td>-0.33</td>\n",
              "      <td>-0.59</td>\n",
              "      <td>1.51</td>\n",
              "    </tr>\n",
              "    <tr>\n",
              "      <th>7</th>\n",
              "      <td>Afghanistan</td>\n",
              "      <td>Acrylic polymers in primary forms</td>\n",
              "      <td>3906</td>\n",
              "      <td>0</td>\n",
              "      <td>0.00</td>\n",
              "      <td>0</td>\n",
              "      <td>0.03</td>\n",
              "      <td>1995</td>\n",
              "      <td>3.76</td>\n",
              "      <td>-0.33</td>\n",
              "      <td>-0.59</td>\n",
              "      <td>1.19</td>\n",
              "    </tr>\n",
              "  </tbody>\n",
              "</table>\n",
              "</div>\n",
              "      <button class=\"colab-df-convert\" onclick=\"convertToInteractive('df-438b251a-9126-412d-9993-fd4ec690a10e')\"\n",
              "              title=\"Convert this dataframe to an interactive table.\"\n",
              "              style=\"display:none;\">\n",
              "        \n",
              "  <svg xmlns=\"http://www.w3.org/2000/svg\" height=\"24px\"viewBox=\"0 0 24 24\"\n",
              "       width=\"24px\">\n",
              "    <path d=\"M0 0h24v24H0V0z\" fill=\"none\"/>\n",
              "    <path d=\"M18.56 5.44l.94 2.06.94-2.06 2.06-.94-2.06-.94-.94-2.06-.94 2.06-2.06.94zm-11 1L8.5 8.5l.94-2.06 2.06-.94-2.06-.94L8.5 2.5l-.94 2.06-2.06.94zm10 10l.94 2.06.94-2.06 2.06-.94-2.06-.94-.94-2.06-.94 2.06-2.06.94z\"/><path d=\"M17.41 7.96l-1.37-1.37c-.4-.4-.92-.59-1.43-.59-.52 0-1.04.2-1.43.59L10.3 9.45l-7.72 7.72c-.78.78-.78 2.05 0 2.83L4 21.41c.39.39.9.59 1.41.59.51 0 1.02-.2 1.41-.59l7.78-7.78 2.81-2.81c.8-.78.8-2.07 0-2.86zM5.41 20L4 18.59l7.72-7.72 1.47 1.35L5.41 20z\"/>\n",
              "  </svg>\n",
              "      </button>\n",
              "      \n",
              "  <style>\n",
              "    .colab-df-container {\n",
              "      display:flex;\n",
              "      flex-wrap:wrap;\n",
              "      gap: 12px;\n",
              "    }\n",
              "\n",
              "    .colab-df-convert {\n",
              "      background-color: #E8F0FE;\n",
              "      border: none;\n",
              "      border-radius: 50%;\n",
              "      cursor: pointer;\n",
              "      display: none;\n",
              "      fill: #1967D2;\n",
              "      height: 32px;\n",
              "      padding: 0 0 0 0;\n",
              "      width: 32px;\n",
              "    }\n",
              "\n",
              "    .colab-df-convert:hover {\n",
              "      background-color: #E2EBFA;\n",
              "      box-shadow: 0px 1px 2px rgba(60, 64, 67, 0.3), 0px 1px 3px 1px rgba(60, 64, 67, 0.15);\n",
              "      fill: #174EA6;\n",
              "    }\n",
              "\n",
              "    [theme=dark] .colab-df-convert {\n",
              "      background-color: #3B4455;\n",
              "      fill: #D2E3FC;\n",
              "    }\n",
              "\n",
              "    [theme=dark] .colab-df-convert:hover {\n",
              "      background-color: #434B5C;\n",
              "      box-shadow: 0px 1px 3px 1px rgba(0, 0, 0, 0.15);\n",
              "      filter: drop-shadow(0px 1px 2px rgba(0, 0, 0, 0.3));\n",
              "      fill: #FFFFFF;\n",
              "    }\n",
              "  </style>\n",
              "\n",
              "      <script>\n",
              "        const buttonEl =\n",
              "          document.querySelector('#df-438b251a-9126-412d-9993-fd4ec690a10e button.colab-df-convert');\n",
              "        buttonEl.style.display =\n",
              "          google.colab.kernel.accessAllowed ? 'block' : 'none';\n",
              "\n",
              "        async function convertToInteractive(key) {\n",
              "          const element = document.querySelector('#df-438b251a-9126-412d-9993-fd4ec690a10e');\n",
              "          const dataTable =\n",
              "            await google.colab.kernel.invokeFunction('convertToInteractive',\n",
              "                                                     [key], {});\n",
              "          if (!dataTable) return;\n",
              "\n",
              "          const docLinkHtml = 'Like what you see? Visit the ' +\n",
              "            '<a target=\"_blank\" href=https://colab.research.google.com/notebooks/data_table.ipynb>data table notebook</a>'\n",
              "            + ' to learn more about interactive tables.';\n",
              "          element.innerHTML = '';\n",
              "          dataTable['output_type'] = 'display_data';\n",
              "          await google.colab.output.renderOutput(dataTable, element);\n",
              "          const docLink = document.createElement('div');\n",
              "          docLink.innerHTML = docLinkHtml;\n",
              "          element.appendChild(docLink);\n",
              "        }\n",
              "      </script>\n",
              "    </div>\n",
              "  </div>\n",
              "  "
            ]
          },
          "metadata": {},
          "execution_count": 18
        }
      ]
    },
    {
      "cell_type": "markdown",
      "source": [
        "## Proposition #2\n",
        "### Preparación de las tablas. "
      ],
      "metadata": {
        "id": "3L0OsKJF1eq8"
      }
    },
    {
      "cell_type": "code",
      "source": [
        "df_complexity_2018 = df_complexity[df_complexity['year']==2018].copy()\n",
        "t_complex_2018 = df_complexity_2018.copy()\n",
        "t_complex_2018=t_complex_2018[['country_name','eci','coi']]\n",
        "# g = t_complex_2018.groupby(['country_name','eci','coi'])['coi'].apply(lambda x: list(np.unique(x)))\n",
        "g = t_complex_2018.groupby(['country_name','eci','coi'],as_index=False)['coi'].apply(lambda x: list(np.unique(x)))\n",
        "t_complex_2018 = pd.DataFrame(g).copy()\n",
        "# t_complex_2018 = t_complex_2018[['country_name','eci','coi']].copy()\n",
        "t_complex_2018 = t_complex_2018.rename(columns = {'eci':'eci_2018','coi':'coi_2018'})\n",
        "# t_complex_2018['eci'] = t_complex_2018['eci'].astype(float, errors = 'raise')\n",
        "print(t_complex_2018.dtypes)\n",
        "t_complex_2018.head(n=5)\n",
        "t_complex_2018.info()\n",
        "\n",
        "paises_faltantes = t_complex_2018[t_complex_2018['country_name']=='French Southern and Antarctic Lands']\n",
        "#  'Gibraltar',\n",
        "#  'Heard and McDonald Islands',\n",
        "#  'Mayotte',\n",
        "#  'Montserrat',\n",
        "#  'Netherlands Antilles',\n",
        "#  'Niue',\n",
        "#  'Norfolk Island',\n",
        "#  'North Korea',\n",
        "#  'Pitcairn',\n",
        "#  'Saint Helena, Ascension and Tristan da Cunha',\n",
        "#  'Saint Pierre and Miquelon',\n",
        "#  'Somalia',\n",
        "#  'South Georgia and South Sandwich Islds.',\n",
        "#  'Tokelau',\n",
        "#  'Undeclared Countries',\n",
        "#  'United States Minor Outlying Islands'\n",
        "print(paises_faltantes)"
      ],
      "metadata": {
        "id": "csD1NvD0ONl8",
        "colab": {
          "base_uri": "https://localhost:8080/"
        },
        "outputId": "a27fd078-f631-4ac0-89d3-6356a29aa3ef"
      },
      "execution_count": null,
      "outputs": [
        {
          "output_type": "stream",
          "name": "stdout",
          "text": [
            "country_name     object\n",
            "eci_2018        float64\n",
            "coi_2018        float64\n",
            "dtype: object\n"
          ]
        },
        {
          "output_type": "execute_result",
          "data": {
            "text/plain": [
              "     country_name  eci_2018  coi_2018\n",
              "0     Afghanistan     -1.23     -0.77\n",
              "1         Albania     -0.35      0.11\n",
              "2         Algeria     -1.26     -0.99\n",
              "3  American Samoa      0.79     -0.46\n",
              "4         Andorra      0.99      0.50"
            ],
            "text/html": [
              "\n",
              "  <div id=\"df-578a6aec-2965-4387-b5ff-b34efcb945d5\">\n",
              "    <div class=\"colab-df-container\">\n",
              "      <div>\n",
              "<style scoped>\n",
              "    .dataframe tbody tr th:only-of-type {\n",
              "        vertical-align: middle;\n",
              "    }\n",
              "\n",
              "    .dataframe tbody tr th {\n",
              "        vertical-align: top;\n",
              "    }\n",
              "\n",
              "    .dataframe thead th {\n",
              "        text-align: right;\n",
              "    }\n",
              "</style>\n",
              "<table border=\"1\" class=\"dataframe\">\n",
              "  <thead>\n",
              "    <tr style=\"text-align: right;\">\n",
              "      <th></th>\n",
              "      <th>country_name</th>\n",
              "      <th>eci_2018</th>\n",
              "      <th>coi_2018</th>\n",
              "    </tr>\n",
              "  </thead>\n",
              "  <tbody>\n",
              "    <tr>\n",
              "      <th>0</th>\n",
              "      <td>Afghanistan</td>\n",
              "      <td>-1.23</td>\n",
              "      <td>-0.77</td>\n",
              "    </tr>\n",
              "    <tr>\n",
              "      <th>1</th>\n",
              "      <td>Albania</td>\n",
              "      <td>-0.35</td>\n",
              "      <td>0.11</td>\n",
              "    </tr>\n",
              "    <tr>\n",
              "      <th>2</th>\n",
              "      <td>Algeria</td>\n",
              "      <td>-1.26</td>\n",
              "      <td>-0.99</td>\n",
              "    </tr>\n",
              "    <tr>\n",
              "      <th>3</th>\n",
              "      <td>American Samoa</td>\n",
              "      <td>0.79</td>\n",
              "      <td>-0.46</td>\n",
              "    </tr>\n",
              "    <tr>\n",
              "      <th>4</th>\n",
              "      <td>Andorra</td>\n",
              "      <td>0.99</td>\n",
              "      <td>0.50</td>\n",
              "    </tr>\n",
              "  </tbody>\n",
              "</table>\n",
              "</div>\n",
              "      <button class=\"colab-df-convert\" onclick=\"convertToInteractive('df-578a6aec-2965-4387-b5ff-b34efcb945d5')\"\n",
              "              title=\"Convert this dataframe to an interactive table.\"\n",
              "              style=\"display:none;\">\n",
              "        \n",
              "  <svg xmlns=\"http://www.w3.org/2000/svg\" height=\"24px\"viewBox=\"0 0 24 24\"\n",
              "       width=\"24px\">\n",
              "    <path d=\"M0 0h24v24H0V0z\" fill=\"none\"/>\n",
              "    <path d=\"M18.56 5.44l.94 2.06.94-2.06 2.06-.94-2.06-.94-.94-2.06-.94 2.06-2.06.94zm-11 1L8.5 8.5l.94-2.06 2.06-.94-2.06-.94L8.5 2.5l-.94 2.06-2.06.94zm10 10l.94 2.06.94-2.06 2.06-.94-2.06-.94-.94-2.06-.94 2.06-2.06.94z\"/><path d=\"M17.41 7.96l-1.37-1.37c-.4-.4-.92-.59-1.43-.59-.52 0-1.04.2-1.43.59L10.3 9.45l-7.72 7.72c-.78.78-.78 2.05 0 2.83L4 21.41c.39.39.9.59 1.41.59.51 0 1.02-.2 1.41-.59l7.78-7.78 2.81-2.81c.8-.78.8-2.07 0-2.86zM5.41 20L4 18.59l7.72-7.72 1.47 1.35L5.41 20z\"/>\n",
              "  </svg>\n",
              "      </button>\n",
              "      \n",
              "  <style>\n",
              "    .colab-df-container {\n",
              "      display:flex;\n",
              "      flex-wrap:wrap;\n",
              "      gap: 12px;\n",
              "    }\n",
              "\n",
              "    .colab-df-convert {\n",
              "      background-color: #E8F0FE;\n",
              "      border: none;\n",
              "      border-radius: 50%;\n",
              "      cursor: pointer;\n",
              "      display: none;\n",
              "      fill: #1967D2;\n",
              "      height: 32px;\n",
              "      padding: 0 0 0 0;\n",
              "      width: 32px;\n",
              "    }\n",
              "\n",
              "    .colab-df-convert:hover {\n",
              "      background-color: #E2EBFA;\n",
              "      box-shadow: 0px 1px 2px rgba(60, 64, 67, 0.3), 0px 1px 3px 1px rgba(60, 64, 67, 0.15);\n",
              "      fill: #174EA6;\n",
              "    }\n",
              "\n",
              "    [theme=dark] .colab-df-convert {\n",
              "      background-color: #3B4455;\n",
              "      fill: #D2E3FC;\n",
              "    }\n",
              "\n",
              "    [theme=dark] .colab-df-convert:hover {\n",
              "      background-color: #434B5C;\n",
              "      box-shadow: 0px 1px 3px 1px rgba(0, 0, 0, 0.15);\n",
              "      filter: drop-shadow(0px 1px 2px rgba(0, 0, 0, 0.3));\n",
              "      fill: #FFFFFF;\n",
              "    }\n",
              "  </style>\n",
              "\n",
              "      <script>\n",
              "        const buttonEl =\n",
              "          document.querySelector('#df-578a6aec-2965-4387-b5ff-b34efcb945d5 button.colab-df-convert');\n",
              "        buttonEl.style.display =\n",
              "          google.colab.kernel.accessAllowed ? 'block' : 'none';\n",
              "\n",
              "        async function convertToInteractive(key) {\n",
              "          const element = document.querySelector('#df-578a6aec-2965-4387-b5ff-b34efcb945d5');\n",
              "          const dataTable =\n",
              "            await google.colab.kernel.invokeFunction('convertToInteractive',\n",
              "                                                     [key], {});\n",
              "          if (!dataTable) return;\n",
              "\n",
              "          const docLinkHtml = 'Like what you see? Visit the ' +\n",
              "            '<a target=\"_blank\" href=https://colab.research.google.com/notebooks/data_table.ipynb>data table notebook</a>'\n",
              "            + ' to learn more about interactive tables.';\n",
              "          element.innerHTML = '';\n",
              "          dataTable['output_type'] = 'display_data';\n",
              "          await google.colab.output.renderOutput(dataTable, element);\n",
              "          const docLink = document.createElement('div');\n",
              "          docLink.innerHTML = docLinkHtml;\n",
              "          element.appendChild(docLink);\n",
              "        }\n",
              "      </script>\n",
              "    </div>\n",
              "  </div>\n",
              "  "
            ]
          },
          "metadata": {},
          "execution_count": 137
        },
        {
          "output_type": "stream",
          "name": "stdout",
          "text": [
            "<class 'pandas.core.frame.DataFrame'>\n",
            "RangeIndex: 235 entries, 0 to 234\n",
            "Data columns (total 3 columns):\n",
            " #   Column        Non-Null Count  Dtype  \n",
            "---  ------        --------------  -----  \n",
            " 0   country_name  235 non-null    object \n",
            " 1   eci_2018      235 non-null    float64\n",
            " 2   coi_2018      235 non-null    float64\n",
            "dtypes: float64(2), object(1)\n",
            "memory usage: 5.6+ KB\n",
            "                           country_name  eci_2018  coi_2018\n",
            "76  French Southern and Antarctic Lands      0.01     -0.88\n"
          ]
        }
      ]
    },
    {
      "cell_type": "code",
      "source": [
        "from deepdiff import DeepDiff\n",
        "t1=t_complex_2018['country_name']\n",
        "t2= t_gdp_2018['country_name']\n",
        "\n",
        "set(t1).difference(set(t2))\n",
        "# set(t1).symmetric_difference(set(t2))\n",
        "\n",
        "# {'Anguilla',\n",
        "#  'Antarctica',\n",
        "#  'Bonaire',\n",
        "#  'Bouvet Island',\n",
        "#  'British Indian Ocean Territory',\n",
        "#  'Christmas Island',\n",
        "#  'Cocos (Keeling) Islands',\n",
        "#  'Cook Islands',\n",
        "#  'Eritrea',\n",
        "#  'Falkland Islands',\n",
        "#  'French Southern and Antarctic Lands',\n",
        "#  'Gibraltar',\n",
        "#  'Montserrat',\n",
        "#  'Netherlands Antilles',\n",
        "#  'Niue',\n",
        "#  'Norfolk Island',\n",
        "#  'North Korea',\n",
        "#  'Pitcairn',\n",
        "#  'Saint Barthélemy',\n",
        "#  'Saint Helena, Ascension and Tristan da Cunha',\n",
        "#  'Saint Pierre and Miquelon',\n",
        "#  'South Georgia and South Sandwich Islds.',\n",
        "#  'South Sudan',\n",
        "#  'St-Martin / St Maarten',\n",
        "#  'Tokelau',\n",
        "#  'Undeclared Countries',\n",
        "#  'United States Minor Outlying Islands',\n",
        "#  'Vatican City',\n",
        "#  'Venezuela',\n",
        "#  'Virgin Islands (British)',\n",
        "#  'Wallis and Futuna',\n",
        "#  'Western Sahara'}"
      ],
      "metadata": {
        "colab": {
          "base_uri": "https://localhost:8080/"
        },
        "id": "IIrjzkonlPMR",
        "outputId": "678048a8-fab0-459d-b4ba-4c4c2dedcac6"
      },
      "execution_count": null,
      "outputs": [
        {
          "output_type": "execute_result",
          "data": {
            "text/plain": [
              "{'Antarctica',\n",
              " 'Bonaire',\n",
              " 'Bouvet Island',\n",
              " 'British Indian Ocean Territory',\n",
              " 'Christmas Island',\n",
              " 'Cocos (Keeling) Islands',\n",
              " 'Eritrea',\n",
              " 'Falkland Islands',\n",
              " 'French Southern and Antarctic Lands',\n",
              " 'Gibraltar',\n",
              " 'Netherlands Antilles',\n",
              " 'Niue',\n",
              " 'Norfolk Island',\n",
              " 'North Korea',\n",
              " 'Pitcairn',\n",
              " 'Saint Barthélemy',\n",
              " 'Saint Helena, Ascension and Tristan da Cunha',\n",
              " 'Saint Pierre and Miquelon',\n",
              " 'South Georgia and South Sandwich Islds.',\n",
              " 'South Sudan',\n",
              " 'Tokelau',\n",
              " 'Undeclared Countries',\n",
              " 'United States Minor Outlying Islands',\n",
              " 'Vatican City',\n",
              " 'Venezuela',\n",
              " 'Wallis and Futuna',\n",
              " 'Western Sahara'}"
            ]
          },
          "metadata": {},
          "execution_count": 138
        }
      ]
    },
    {
      "cell_type": "markdown",
      "source": [
        "### Merge de tablas: t_GDP + t_complex"
      ],
      "metadata": {
        "id": "GSE61snGMhNl"
      }
    },
    {
      "cell_type": "code",
      "source": [
        "# df_gpd2018\n",
        "# df3 = pd.concat([t_complex_2018, t_gdp_2018], axis=1).reset_index()\n",
        "\n",
        "t_merged = pd.merge(t_complex_2018,t_gdp_2018,on=['country_name'], how='inner')\n",
        "paises_agg = t_merged[t_merged['country_name']=='Somalia']\n",
        "print(paises_agg)\n",
        "t_merged.info()\n",
        "# df3.head()"
      ],
      "metadata": {
        "colab": {
          "base_uri": "https://localhost:8080/"
        },
        "id": "4TjMbXRaMZSY",
        "outputId": "eb68f856-5186-4a86-f710-3eb470fb8b5a"
      },
      "execution_count": null,
      "outputs": [
        {
          "output_type": "stream",
          "name": "stdout",
          "text": [
            "    country_name  eci_2018  coi_2018  gdp_per_capita\n",
            "182      Somalia     -1.66     -1.04          379.99\n",
            "183      Somalia     -1.66     -1.04         1124.74\n",
            "184      Somalia     -1.66     -1.04         1124.74\n",
            "185      Somalia     -1.66     -1.04         1124.74\n",
            "186      Somalia     -1.66     -1.04         1124.74\n",
            "187      Somalia     -1.66     -1.04         1124.74\n",
            "<class 'pandas.core.frame.DataFrame'>\n",
            "Int64Index: 233 entries, 0 to 232\n",
            "Data columns (total 4 columns):\n",
            " #   Column          Non-Null Count  Dtype  \n",
            "---  ------          --------------  -----  \n",
            " 0   country_name    233 non-null    object \n",
            " 1   eci_2018        233 non-null    float64\n",
            " 2   coi_2018        233 non-null    float64\n",
            " 3   gdp_per_capita  233 non-null    float64\n",
            "dtypes: float64(3), object(1)\n",
            "memory usage: 9.1+ KB\n"
          ]
        }
      ]
    },
    {
      "cell_type": "markdown",
      "source": [
        "### Se hace el calculo de Log del GDP y se lo agrega al DF"
      ],
      "metadata": {
        "id": "7lQWZRtYh5MM"
      }
    },
    {
      "cell_type": "code",
      "source": [
        "t_merged['log_gdp'] = np.log(t_merged['gdp_per_capita'])\n",
        "t_merged.head()\n",
        "t_merged.info()\n",
        "# fil_df =t_merged.apply(lambda x: x.gdp_per_capita<1, axis=1)\n",
        "fil_df=t_merged.dropna()\n",
        "fil_df.info()\n",
        "# fil_df.loc[['gdp_per_capita']].isna().sum().sum()\n"
      ],
      "metadata": {
        "colab": {
          "base_uri": "https://localhost:8080/"
        },
        "id": "Z-aIQ6sAh4RM",
        "outputId": "ad0c203d-b328-44d0-8bef-f3994e221508"
      },
      "execution_count": null,
      "outputs": [
        {
          "output_type": "execute_result",
          "data": {
            "text/plain": [
              "     country_name  eci_2018  coi_2018  gdp_per_capita  log_gdp\n",
              "0     Afghanistan     -1.23     -0.77          502.06     6.22\n",
              "1         Albania     -0.35      0.11         5287.66     8.57\n",
              "2         Algeria     -1.26     -0.99         4171.80     8.34\n",
              "3  American Samoa      0.79     -0.46        13195.94     9.49\n",
              "4         Andorra      0.99      0.50        42903.44    10.67"
            ],
            "text/html": [
              "\n",
              "  <div id=\"df-95ba8027-7403-45fc-b9aa-1d52c3181bc9\">\n",
              "    <div class=\"colab-df-container\">\n",
              "      <div>\n",
              "<style scoped>\n",
              "    .dataframe tbody tr th:only-of-type {\n",
              "        vertical-align: middle;\n",
              "    }\n",
              "\n",
              "    .dataframe tbody tr th {\n",
              "        vertical-align: top;\n",
              "    }\n",
              "\n",
              "    .dataframe thead th {\n",
              "        text-align: right;\n",
              "    }\n",
              "</style>\n",
              "<table border=\"1\" class=\"dataframe\">\n",
              "  <thead>\n",
              "    <tr style=\"text-align: right;\">\n",
              "      <th></th>\n",
              "      <th>country_name</th>\n",
              "      <th>eci_2018</th>\n",
              "      <th>coi_2018</th>\n",
              "      <th>gdp_per_capita</th>\n",
              "      <th>log_gdp</th>\n",
              "    </tr>\n",
              "  </thead>\n",
              "  <tbody>\n",
              "    <tr>\n",
              "      <th>0</th>\n",
              "      <td>Afghanistan</td>\n",
              "      <td>-1.23</td>\n",
              "      <td>-0.77</td>\n",
              "      <td>502.06</td>\n",
              "      <td>6.22</td>\n",
              "    </tr>\n",
              "    <tr>\n",
              "      <th>1</th>\n",
              "      <td>Albania</td>\n",
              "      <td>-0.35</td>\n",
              "      <td>0.11</td>\n",
              "      <td>5287.66</td>\n",
              "      <td>8.57</td>\n",
              "    </tr>\n",
              "    <tr>\n",
              "      <th>2</th>\n",
              "      <td>Algeria</td>\n",
              "      <td>-1.26</td>\n",
              "      <td>-0.99</td>\n",
              "      <td>4171.80</td>\n",
              "      <td>8.34</td>\n",
              "    </tr>\n",
              "    <tr>\n",
              "      <th>3</th>\n",
              "      <td>American Samoa</td>\n",
              "      <td>0.79</td>\n",
              "      <td>-0.46</td>\n",
              "      <td>13195.94</td>\n",
              "      <td>9.49</td>\n",
              "    </tr>\n",
              "    <tr>\n",
              "      <th>4</th>\n",
              "      <td>Andorra</td>\n",
              "      <td>0.99</td>\n",
              "      <td>0.50</td>\n",
              "      <td>42903.44</td>\n",
              "      <td>10.67</td>\n",
              "    </tr>\n",
              "  </tbody>\n",
              "</table>\n",
              "</div>\n",
              "      <button class=\"colab-df-convert\" onclick=\"convertToInteractive('df-95ba8027-7403-45fc-b9aa-1d52c3181bc9')\"\n",
              "              title=\"Convert this dataframe to an interactive table.\"\n",
              "              style=\"display:none;\">\n",
              "        \n",
              "  <svg xmlns=\"http://www.w3.org/2000/svg\" height=\"24px\"viewBox=\"0 0 24 24\"\n",
              "       width=\"24px\">\n",
              "    <path d=\"M0 0h24v24H0V0z\" fill=\"none\"/>\n",
              "    <path d=\"M18.56 5.44l.94 2.06.94-2.06 2.06-.94-2.06-.94-.94-2.06-.94 2.06-2.06.94zm-11 1L8.5 8.5l.94-2.06 2.06-.94-2.06-.94L8.5 2.5l-.94 2.06-2.06.94zm10 10l.94 2.06.94-2.06 2.06-.94-2.06-.94-.94-2.06-.94 2.06-2.06.94z\"/><path d=\"M17.41 7.96l-1.37-1.37c-.4-.4-.92-.59-1.43-.59-.52 0-1.04.2-1.43.59L10.3 9.45l-7.72 7.72c-.78.78-.78 2.05 0 2.83L4 21.41c.39.39.9.59 1.41.59.51 0 1.02-.2 1.41-.59l7.78-7.78 2.81-2.81c.8-.78.8-2.07 0-2.86zM5.41 20L4 18.59l7.72-7.72 1.47 1.35L5.41 20z\"/>\n",
              "  </svg>\n",
              "      </button>\n",
              "      \n",
              "  <style>\n",
              "    .colab-df-container {\n",
              "      display:flex;\n",
              "      flex-wrap:wrap;\n",
              "      gap: 12px;\n",
              "    }\n",
              "\n",
              "    .colab-df-convert {\n",
              "      background-color: #E8F0FE;\n",
              "      border: none;\n",
              "      border-radius: 50%;\n",
              "      cursor: pointer;\n",
              "      display: none;\n",
              "      fill: #1967D2;\n",
              "      height: 32px;\n",
              "      padding: 0 0 0 0;\n",
              "      width: 32px;\n",
              "    }\n",
              "\n",
              "    .colab-df-convert:hover {\n",
              "      background-color: #E2EBFA;\n",
              "      box-shadow: 0px 1px 2px rgba(60, 64, 67, 0.3), 0px 1px 3px 1px rgba(60, 64, 67, 0.15);\n",
              "      fill: #174EA6;\n",
              "    }\n",
              "\n",
              "    [theme=dark] .colab-df-convert {\n",
              "      background-color: #3B4455;\n",
              "      fill: #D2E3FC;\n",
              "    }\n",
              "\n",
              "    [theme=dark] .colab-df-convert:hover {\n",
              "      background-color: #434B5C;\n",
              "      box-shadow: 0px 1px 3px 1px rgba(0, 0, 0, 0.15);\n",
              "      filter: drop-shadow(0px 1px 2px rgba(0, 0, 0, 0.3));\n",
              "      fill: #FFFFFF;\n",
              "    }\n",
              "  </style>\n",
              "\n",
              "      <script>\n",
              "        const buttonEl =\n",
              "          document.querySelector('#df-95ba8027-7403-45fc-b9aa-1d52c3181bc9 button.colab-df-convert');\n",
              "        buttonEl.style.display =\n",
              "          google.colab.kernel.accessAllowed ? 'block' : 'none';\n",
              "\n",
              "        async function convertToInteractive(key) {\n",
              "          const element = document.querySelector('#df-95ba8027-7403-45fc-b9aa-1d52c3181bc9');\n",
              "          const dataTable =\n",
              "            await google.colab.kernel.invokeFunction('convertToInteractive',\n",
              "                                                     [key], {});\n",
              "          if (!dataTable) return;\n",
              "\n",
              "          const docLinkHtml = 'Like what you see? Visit the ' +\n",
              "            '<a target=\"_blank\" href=https://colab.research.google.com/notebooks/data_table.ipynb>data table notebook</a>'\n",
              "            + ' to learn more about interactive tables.';\n",
              "          element.innerHTML = '';\n",
              "          dataTable['output_type'] = 'display_data';\n",
              "          await google.colab.output.renderOutput(dataTable, element);\n",
              "          const docLink = document.createElement('div');\n",
              "          docLink.innerHTML = docLinkHtml;\n",
              "          element.appendChild(docLink);\n",
              "        }\n",
              "      </script>\n",
              "    </div>\n",
              "  </div>\n",
              "  "
            ]
          },
          "metadata": {},
          "execution_count": 140
        },
        {
          "output_type": "stream",
          "name": "stdout",
          "text": [
            "<class 'pandas.core.frame.DataFrame'>\n",
            "Int64Index: 233 entries, 0 to 232\n",
            "Data columns (total 5 columns):\n",
            " #   Column          Non-Null Count  Dtype  \n",
            "---  ------          --------------  -----  \n",
            " 0   country_name    233 non-null    object \n",
            " 1   eci_2018        233 non-null    float64\n",
            " 2   coi_2018        233 non-null    float64\n",
            " 3   gdp_per_capita  233 non-null    float64\n",
            " 4   log_gdp         233 non-null    float64\n",
            "dtypes: float64(4), object(1)\n",
            "memory usage: 10.9+ KB\n",
            "<class 'pandas.core.frame.DataFrame'>\n",
            "Int64Index: 233 entries, 0 to 232\n",
            "Data columns (total 5 columns):\n",
            " #   Column          Non-Null Count  Dtype  \n",
            "---  ------          --------------  -----  \n",
            " 0   country_name    233 non-null    object \n",
            " 1   eci_2018        233 non-null    float64\n",
            " 2   coi_2018        233 non-null    float64\n",
            " 3   gdp_per_capita  233 non-null    float64\n",
            " 4   log_gdp         233 non-null    float64\n",
            "dtypes: float64(4), object(1)\n",
            "memory usage: 10.9+ KB\n"
          ]
        }
      ]
    },
    {
      "cell_type": "markdown",
      "source": [
        "## Calculo de Residuos"
      ],
      "metadata": {
        "id": "EjDBDmovg66l"
      }
    },
    {
      "cell_type": "code",
      "source": [
        "import statsmodels.api as sm\n",
        "\n",
        "# X1=fil_df['eci_2018']\n",
        "# y=fil_df['log_gdp']\n",
        "\n",
        "X1=fil_df['log_gdp']\n",
        "y=fil_df['eci_2018']\n",
        "\n",
        "X = sm.add_constant(X1)\n",
        "\n",
        "fil_df.plot.scatter(x='eci_2018',y='log_gdp')\n",
        "\n",
        "# m, b = np.polyfit(y, X, 1)\n",
        "\n",
        "reg = sm.OLS(y, X).fit()\n",
        "\n",
        "t_merged[\"residuals\"] = reg.resid\n",
        "fil_df[\"residuals\"] = reg.resid\n",
        "\n",
        "def cal_resiNorm(data):\n",
        "  tf=data.copy()\n",
        "  mean=tf['residuals'].mean()\n",
        "  std=tf['residuals'].std()\n",
        "  # coi_mean=tf['coi_2018'].mean()\n",
        "  # coi_std=tf['coi_2018'].std()\n",
        "\n",
        "  tf['residuals_norm'] = tf.apply(lambda x: (x.residuals-mean)/std, axis=1)\n",
        "  # tf['coi_norm'] = tf.apply(lambda x: (x.coi_2018-coi_mean)/coi_std, axis=1)\n",
        "\n",
        "  return tf\n",
        "\n",
        "# fil_df.head()\n",
        "fil_df.describe()\n",
        "t_residuals = cal_resiNorm(fil_df).copy()\n",
        "t_residuals.describe()\n",
        "t_residuals.head()\n",
        "print(t_residuals[t_residuals['country_name']=='Mozambique'])\n",
        "print(t_residuals[t_residuals['country_name']=='Ecuador'])\n",
        "\n",
        "print(t_residuals[t_residuals['country_name']=='Germany'])\n"
      ],
      "metadata": {
        "colab": {
          "base_uri": "https://localhost:8080/",
          "height": 1000
        },
        "id": "sa7lgFHTg9Ba",
        "outputId": "a7523592-07da-46eb-cd43-dd3cb2411890"
      },
      "execution_count": null,
      "outputs": [
        {
          "output_type": "execute_result",
          "data": {
            "text/plain": [
              "<Axes: xlabel='eci_2018', ylabel='log_gdp'>"
            ]
          },
          "metadata": {},
          "execution_count": 141
        },
        {
          "output_type": "execute_result",
          "data": {
            "text/plain": [
              "       eci_2018  coi_2018  gdp_per_capita  log_gdp  residuals\n",
              "count    233.00    233.00          233.00   233.00     233.00\n",
              "mean      -0.01      0.07        17171.78     8.91      -0.00\n",
              "std        1.02      1.01        21367.82     1.44       0.73\n",
              "min       -2.71     -1.97          231.45     5.44      -2.31\n",
              "25%       -0.74     -0.79         2457.69     7.81      -0.51\n",
              "50%        0.01     -0.20         7694.91     8.95       0.09\n",
              "75%        0.71      0.75        23424.48    10.06       0.50\n",
              "max        2.24      3.48       116786.51    11.67       2.09"
            ],
            "text/html": [
              "\n",
              "  <div id=\"df-222e95aa-0844-4046-8848-c596d4ae564d\">\n",
              "    <div class=\"colab-df-container\">\n",
              "      <div>\n",
              "<style scoped>\n",
              "    .dataframe tbody tr th:only-of-type {\n",
              "        vertical-align: middle;\n",
              "    }\n",
              "\n",
              "    .dataframe tbody tr th {\n",
              "        vertical-align: top;\n",
              "    }\n",
              "\n",
              "    .dataframe thead th {\n",
              "        text-align: right;\n",
              "    }\n",
              "</style>\n",
              "<table border=\"1\" class=\"dataframe\">\n",
              "  <thead>\n",
              "    <tr style=\"text-align: right;\">\n",
              "      <th></th>\n",
              "      <th>eci_2018</th>\n",
              "      <th>coi_2018</th>\n",
              "      <th>gdp_per_capita</th>\n",
              "      <th>log_gdp</th>\n",
              "      <th>residuals</th>\n",
              "    </tr>\n",
              "  </thead>\n",
              "  <tbody>\n",
              "    <tr>\n",
              "      <th>count</th>\n",
              "      <td>233.00</td>\n",
              "      <td>233.00</td>\n",
              "      <td>233.00</td>\n",
              "      <td>233.00</td>\n",
              "      <td>233.00</td>\n",
              "    </tr>\n",
              "    <tr>\n",
              "      <th>mean</th>\n",
              "      <td>-0.01</td>\n",
              "      <td>0.07</td>\n",
              "      <td>17171.78</td>\n",
              "      <td>8.91</td>\n",
              "      <td>-0.00</td>\n",
              "    </tr>\n",
              "    <tr>\n",
              "      <th>std</th>\n",
              "      <td>1.02</td>\n",
              "      <td>1.01</td>\n",
              "      <td>21367.82</td>\n",
              "      <td>1.44</td>\n",
              "      <td>0.73</td>\n",
              "    </tr>\n",
              "    <tr>\n",
              "      <th>min</th>\n",
              "      <td>-2.71</td>\n",
              "      <td>-1.97</td>\n",
              "      <td>231.45</td>\n",
              "      <td>5.44</td>\n",
              "      <td>-2.31</td>\n",
              "    </tr>\n",
              "    <tr>\n",
              "      <th>25%</th>\n",
              "      <td>-0.74</td>\n",
              "      <td>-0.79</td>\n",
              "      <td>2457.69</td>\n",
              "      <td>7.81</td>\n",
              "      <td>-0.51</td>\n",
              "    </tr>\n",
              "    <tr>\n",
              "      <th>50%</th>\n",
              "      <td>0.01</td>\n",
              "      <td>-0.20</td>\n",
              "      <td>7694.91</td>\n",
              "      <td>8.95</td>\n",
              "      <td>0.09</td>\n",
              "    </tr>\n",
              "    <tr>\n",
              "      <th>75%</th>\n",
              "      <td>0.71</td>\n",
              "      <td>0.75</td>\n",
              "      <td>23424.48</td>\n",
              "      <td>10.06</td>\n",
              "      <td>0.50</td>\n",
              "    </tr>\n",
              "    <tr>\n",
              "      <th>max</th>\n",
              "      <td>2.24</td>\n",
              "      <td>3.48</td>\n",
              "      <td>116786.51</td>\n",
              "      <td>11.67</td>\n",
              "      <td>2.09</td>\n",
              "    </tr>\n",
              "  </tbody>\n",
              "</table>\n",
              "</div>\n",
              "      <button class=\"colab-df-convert\" onclick=\"convertToInteractive('df-222e95aa-0844-4046-8848-c596d4ae564d')\"\n",
              "              title=\"Convert this dataframe to an interactive table.\"\n",
              "              style=\"display:none;\">\n",
              "        \n",
              "  <svg xmlns=\"http://www.w3.org/2000/svg\" height=\"24px\"viewBox=\"0 0 24 24\"\n",
              "       width=\"24px\">\n",
              "    <path d=\"M0 0h24v24H0V0z\" fill=\"none\"/>\n",
              "    <path d=\"M18.56 5.44l.94 2.06.94-2.06 2.06-.94-2.06-.94-.94-2.06-.94 2.06-2.06.94zm-11 1L8.5 8.5l.94-2.06 2.06-.94-2.06-.94L8.5 2.5l-.94 2.06-2.06.94zm10 10l.94 2.06.94-2.06 2.06-.94-2.06-.94-.94-2.06-.94 2.06-2.06.94z\"/><path d=\"M17.41 7.96l-1.37-1.37c-.4-.4-.92-.59-1.43-.59-.52 0-1.04.2-1.43.59L10.3 9.45l-7.72 7.72c-.78.78-.78 2.05 0 2.83L4 21.41c.39.39.9.59 1.41.59.51 0 1.02-.2 1.41-.59l7.78-7.78 2.81-2.81c.8-.78.8-2.07 0-2.86zM5.41 20L4 18.59l7.72-7.72 1.47 1.35L5.41 20z\"/>\n",
              "  </svg>\n",
              "      </button>\n",
              "      \n",
              "  <style>\n",
              "    .colab-df-container {\n",
              "      display:flex;\n",
              "      flex-wrap:wrap;\n",
              "      gap: 12px;\n",
              "    }\n",
              "\n",
              "    .colab-df-convert {\n",
              "      background-color: #E8F0FE;\n",
              "      border: none;\n",
              "      border-radius: 50%;\n",
              "      cursor: pointer;\n",
              "      display: none;\n",
              "      fill: #1967D2;\n",
              "      height: 32px;\n",
              "      padding: 0 0 0 0;\n",
              "      width: 32px;\n",
              "    }\n",
              "\n",
              "    .colab-df-convert:hover {\n",
              "      background-color: #E2EBFA;\n",
              "      box-shadow: 0px 1px 2px rgba(60, 64, 67, 0.3), 0px 1px 3px 1px rgba(60, 64, 67, 0.15);\n",
              "      fill: #174EA6;\n",
              "    }\n",
              "\n",
              "    [theme=dark] .colab-df-convert {\n",
              "      background-color: #3B4455;\n",
              "      fill: #D2E3FC;\n",
              "    }\n",
              "\n",
              "    [theme=dark] .colab-df-convert:hover {\n",
              "      background-color: #434B5C;\n",
              "      box-shadow: 0px 1px 3px 1px rgba(0, 0, 0, 0.15);\n",
              "      filter: drop-shadow(0px 1px 2px rgba(0, 0, 0, 0.3));\n",
              "      fill: #FFFFFF;\n",
              "    }\n",
              "  </style>\n",
              "\n",
              "      <script>\n",
              "        const buttonEl =\n",
              "          document.querySelector('#df-222e95aa-0844-4046-8848-c596d4ae564d button.colab-df-convert');\n",
              "        buttonEl.style.display =\n",
              "          google.colab.kernel.accessAllowed ? 'block' : 'none';\n",
              "\n",
              "        async function convertToInteractive(key) {\n",
              "          const element = document.querySelector('#df-222e95aa-0844-4046-8848-c596d4ae564d');\n",
              "          const dataTable =\n",
              "            await google.colab.kernel.invokeFunction('convertToInteractive',\n",
              "                                                     [key], {});\n",
              "          if (!dataTable) return;\n",
              "\n",
              "          const docLinkHtml = 'Like what you see? Visit the ' +\n",
              "            '<a target=\"_blank\" href=https://colab.research.google.com/notebooks/data_table.ipynb>data table notebook</a>'\n",
              "            + ' to learn more about interactive tables.';\n",
              "          element.innerHTML = '';\n",
              "          dataTable['output_type'] = 'display_data';\n",
              "          await google.colab.output.renderOutput(dataTable, element);\n",
              "          const docLink = document.createElement('div');\n",
              "          docLink.innerHTML = docLinkHtml;\n",
              "          element.appendChild(docLink);\n",
              "        }\n",
              "      </script>\n",
              "    </div>\n",
              "  </div>\n",
              "  "
            ]
          },
          "metadata": {},
          "execution_count": 141
        },
        {
          "output_type": "execute_result",
          "data": {
            "text/plain": [
              "       eci_2018  coi_2018  gdp_per_capita  log_gdp  residuals  residuals_norm\n",
              "count    233.00    233.00          233.00   233.00     233.00          233.00\n",
              "mean      -0.01      0.07        17171.78     8.91      -0.00           -0.00\n",
              "std        1.02      1.01        21367.82     1.44       0.73            1.00\n",
              "min       -2.71     -1.97          231.45     5.44      -2.31           -3.16\n",
              "25%       -0.74     -0.79         2457.69     7.81      -0.51           -0.69\n",
              "50%        0.01     -0.20         7694.91     8.95       0.09            0.13\n",
              "75%        0.71      0.75        23424.48    10.06       0.50            0.68\n",
              "max        2.24      3.48       116786.51    11.67       2.09            2.85"
            ],
            "text/html": [
              "\n",
              "  <div id=\"df-41b95e7b-ceaf-41c5-9b05-a7089f4b935d\">\n",
              "    <div class=\"colab-df-container\">\n",
              "      <div>\n",
              "<style scoped>\n",
              "    .dataframe tbody tr th:only-of-type {\n",
              "        vertical-align: middle;\n",
              "    }\n",
              "\n",
              "    .dataframe tbody tr th {\n",
              "        vertical-align: top;\n",
              "    }\n",
              "\n",
              "    .dataframe thead th {\n",
              "        text-align: right;\n",
              "    }\n",
              "</style>\n",
              "<table border=\"1\" class=\"dataframe\">\n",
              "  <thead>\n",
              "    <tr style=\"text-align: right;\">\n",
              "      <th></th>\n",
              "      <th>eci_2018</th>\n",
              "      <th>coi_2018</th>\n",
              "      <th>gdp_per_capita</th>\n",
              "      <th>log_gdp</th>\n",
              "      <th>residuals</th>\n",
              "      <th>residuals_norm</th>\n",
              "    </tr>\n",
              "  </thead>\n",
              "  <tbody>\n",
              "    <tr>\n",
              "      <th>count</th>\n",
              "      <td>233.00</td>\n",
              "      <td>233.00</td>\n",
              "      <td>233.00</td>\n",
              "      <td>233.00</td>\n",
              "      <td>233.00</td>\n",
              "      <td>233.00</td>\n",
              "    </tr>\n",
              "    <tr>\n",
              "      <th>mean</th>\n",
              "      <td>-0.01</td>\n",
              "      <td>0.07</td>\n",
              "      <td>17171.78</td>\n",
              "      <td>8.91</td>\n",
              "      <td>-0.00</td>\n",
              "      <td>-0.00</td>\n",
              "    </tr>\n",
              "    <tr>\n",
              "      <th>std</th>\n",
              "      <td>1.02</td>\n",
              "      <td>1.01</td>\n",
              "      <td>21367.82</td>\n",
              "      <td>1.44</td>\n",
              "      <td>0.73</td>\n",
              "      <td>1.00</td>\n",
              "    </tr>\n",
              "    <tr>\n",
              "      <th>min</th>\n",
              "      <td>-2.71</td>\n",
              "      <td>-1.97</td>\n",
              "      <td>231.45</td>\n",
              "      <td>5.44</td>\n",
              "      <td>-2.31</td>\n",
              "      <td>-3.16</td>\n",
              "    </tr>\n",
              "    <tr>\n",
              "      <th>25%</th>\n",
              "      <td>-0.74</td>\n",
              "      <td>-0.79</td>\n",
              "      <td>2457.69</td>\n",
              "      <td>7.81</td>\n",
              "      <td>-0.51</td>\n",
              "      <td>-0.69</td>\n",
              "    </tr>\n",
              "    <tr>\n",
              "      <th>50%</th>\n",
              "      <td>0.01</td>\n",
              "      <td>-0.20</td>\n",
              "      <td>7694.91</td>\n",
              "      <td>8.95</td>\n",
              "      <td>0.09</td>\n",
              "      <td>0.13</td>\n",
              "    </tr>\n",
              "    <tr>\n",
              "      <th>75%</th>\n",
              "      <td>0.71</td>\n",
              "      <td>0.75</td>\n",
              "      <td>23424.48</td>\n",
              "      <td>10.06</td>\n",
              "      <td>0.50</td>\n",
              "      <td>0.68</td>\n",
              "    </tr>\n",
              "    <tr>\n",
              "      <th>max</th>\n",
              "      <td>2.24</td>\n",
              "      <td>3.48</td>\n",
              "      <td>116786.51</td>\n",
              "      <td>11.67</td>\n",
              "      <td>2.09</td>\n",
              "      <td>2.85</td>\n",
              "    </tr>\n",
              "  </tbody>\n",
              "</table>\n",
              "</div>\n",
              "      <button class=\"colab-df-convert\" onclick=\"convertToInteractive('df-41b95e7b-ceaf-41c5-9b05-a7089f4b935d')\"\n",
              "              title=\"Convert this dataframe to an interactive table.\"\n",
              "              style=\"display:none;\">\n",
              "        \n",
              "  <svg xmlns=\"http://www.w3.org/2000/svg\" height=\"24px\"viewBox=\"0 0 24 24\"\n",
              "       width=\"24px\">\n",
              "    <path d=\"M0 0h24v24H0V0z\" fill=\"none\"/>\n",
              "    <path d=\"M18.56 5.44l.94 2.06.94-2.06 2.06-.94-2.06-.94-.94-2.06-.94 2.06-2.06.94zm-11 1L8.5 8.5l.94-2.06 2.06-.94-2.06-.94L8.5 2.5l-.94 2.06-2.06.94zm10 10l.94 2.06.94-2.06 2.06-.94-2.06-.94-.94-2.06-.94 2.06-2.06.94z\"/><path d=\"M17.41 7.96l-1.37-1.37c-.4-.4-.92-.59-1.43-.59-.52 0-1.04.2-1.43.59L10.3 9.45l-7.72 7.72c-.78.78-.78 2.05 0 2.83L4 21.41c.39.39.9.59 1.41.59.51 0 1.02-.2 1.41-.59l7.78-7.78 2.81-2.81c.8-.78.8-2.07 0-2.86zM5.41 20L4 18.59l7.72-7.72 1.47 1.35L5.41 20z\"/>\n",
              "  </svg>\n",
              "      </button>\n",
              "      \n",
              "  <style>\n",
              "    .colab-df-container {\n",
              "      display:flex;\n",
              "      flex-wrap:wrap;\n",
              "      gap: 12px;\n",
              "    }\n",
              "\n",
              "    .colab-df-convert {\n",
              "      background-color: #E8F0FE;\n",
              "      border: none;\n",
              "      border-radius: 50%;\n",
              "      cursor: pointer;\n",
              "      display: none;\n",
              "      fill: #1967D2;\n",
              "      height: 32px;\n",
              "      padding: 0 0 0 0;\n",
              "      width: 32px;\n",
              "    }\n",
              "\n",
              "    .colab-df-convert:hover {\n",
              "      background-color: #E2EBFA;\n",
              "      box-shadow: 0px 1px 2px rgba(60, 64, 67, 0.3), 0px 1px 3px 1px rgba(60, 64, 67, 0.15);\n",
              "      fill: #174EA6;\n",
              "    }\n",
              "\n",
              "    [theme=dark] .colab-df-convert {\n",
              "      background-color: #3B4455;\n",
              "      fill: #D2E3FC;\n",
              "    }\n",
              "\n",
              "    [theme=dark] .colab-df-convert:hover {\n",
              "      background-color: #434B5C;\n",
              "      box-shadow: 0px 1px 3px 1px rgba(0, 0, 0, 0.15);\n",
              "      filter: drop-shadow(0px 1px 2px rgba(0, 0, 0, 0.3));\n",
              "      fill: #FFFFFF;\n",
              "    }\n",
              "  </style>\n",
              "\n",
              "      <script>\n",
              "        const buttonEl =\n",
              "          document.querySelector('#df-41b95e7b-ceaf-41c5-9b05-a7089f4b935d button.colab-df-convert');\n",
              "        buttonEl.style.display =\n",
              "          google.colab.kernel.accessAllowed ? 'block' : 'none';\n",
              "\n",
              "        async function convertToInteractive(key) {\n",
              "          const element = document.querySelector('#df-41b95e7b-ceaf-41c5-9b05-a7089f4b935d');\n",
              "          const dataTable =\n",
              "            await google.colab.kernel.invokeFunction('convertToInteractive',\n",
              "                                                     [key], {});\n",
              "          if (!dataTable) return;\n",
              "\n",
              "          const docLinkHtml = 'Like what you see? Visit the ' +\n",
              "            '<a target=\"_blank\" href=https://colab.research.google.com/notebooks/data_table.ipynb>data table notebook</a>'\n",
              "            + ' to learn more about interactive tables.';\n",
              "          element.innerHTML = '';\n",
              "          dataTable['output_type'] = 'display_data';\n",
              "          await google.colab.output.renderOutput(dataTable, element);\n",
              "          const docLink = document.createElement('div');\n",
              "          docLink.innerHTML = docLinkHtml;\n",
              "          element.appendChild(docLink);\n",
              "        }\n",
              "      </script>\n",
              "    </div>\n",
              "  </div>\n",
              "  "
            ]
          },
          "metadata": {},
          "execution_count": 141
        },
        {
          "output_type": "execute_result",
          "data": {
            "text/plain": [
              "     country_name  eci_2018  coi_2018  gdp_per_capita  log_gdp  residuals  residuals_norm\n",
              "0     Afghanistan     -1.23     -0.77          502.06     6.22       0.09            0.12\n",
              "1         Albania     -0.35      0.11         5287.66     8.57      -0.17           -0.24\n",
              "2         Algeria     -1.26     -0.99         4171.80     8.34      -0.97           -1.32\n",
              "3  American Samoa      0.79     -0.46        13195.94     9.49       0.52            0.71\n",
              "4         Andorra      0.99      0.50        42903.44    10.67       0.14            0.19"
            ],
            "text/html": [
              "\n",
              "  <div id=\"df-a5052c4c-e69e-44d7-adbb-54b90df20789\">\n",
              "    <div class=\"colab-df-container\">\n",
              "      <div>\n",
              "<style scoped>\n",
              "    .dataframe tbody tr th:only-of-type {\n",
              "        vertical-align: middle;\n",
              "    }\n",
              "\n",
              "    .dataframe tbody tr th {\n",
              "        vertical-align: top;\n",
              "    }\n",
              "\n",
              "    .dataframe thead th {\n",
              "        text-align: right;\n",
              "    }\n",
              "</style>\n",
              "<table border=\"1\" class=\"dataframe\">\n",
              "  <thead>\n",
              "    <tr style=\"text-align: right;\">\n",
              "      <th></th>\n",
              "      <th>country_name</th>\n",
              "      <th>eci_2018</th>\n",
              "      <th>coi_2018</th>\n",
              "      <th>gdp_per_capita</th>\n",
              "      <th>log_gdp</th>\n",
              "      <th>residuals</th>\n",
              "      <th>residuals_norm</th>\n",
              "    </tr>\n",
              "  </thead>\n",
              "  <tbody>\n",
              "    <tr>\n",
              "      <th>0</th>\n",
              "      <td>Afghanistan</td>\n",
              "      <td>-1.23</td>\n",
              "      <td>-0.77</td>\n",
              "      <td>502.06</td>\n",
              "      <td>6.22</td>\n",
              "      <td>0.09</td>\n",
              "      <td>0.12</td>\n",
              "    </tr>\n",
              "    <tr>\n",
              "      <th>1</th>\n",
              "      <td>Albania</td>\n",
              "      <td>-0.35</td>\n",
              "      <td>0.11</td>\n",
              "      <td>5287.66</td>\n",
              "      <td>8.57</td>\n",
              "      <td>-0.17</td>\n",
              "      <td>-0.24</td>\n",
              "    </tr>\n",
              "    <tr>\n",
              "      <th>2</th>\n",
              "      <td>Algeria</td>\n",
              "      <td>-1.26</td>\n",
              "      <td>-0.99</td>\n",
              "      <td>4171.80</td>\n",
              "      <td>8.34</td>\n",
              "      <td>-0.97</td>\n",
              "      <td>-1.32</td>\n",
              "    </tr>\n",
              "    <tr>\n",
              "      <th>3</th>\n",
              "      <td>American Samoa</td>\n",
              "      <td>0.79</td>\n",
              "      <td>-0.46</td>\n",
              "      <td>13195.94</td>\n",
              "      <td>9.49</td>\n",
              "      <td>0.52</td>\n",
              "      <td>0.71</td>\n",
              "    </tr>\n",
              "    <tr>\n",
              "      <th>4</th>\n",
              "      <td>Andorra</td>\n",
              "      <td>0.99</td>\n",
              "      <td>0.50</td>\n",
              "      <td>42903.44</td>\n",
              "      <td>10.67</td>\n",
              "      <td>0.14</td>\n",
              "      <td>0.19</td>\n",
              "    </tr>\n",
              "  </tbody>\n",
              "</table>\n",
              "</div>\n",
              "      <button class=\"colab-df-convert\" onclick=\"convertToInteractive('df-a5052c4c-e69e-44d7-adbb-54b90df20789')\"\n",
              "              title=\"Convert this dataframe to an interactive table.\"\n",
              "              style=\"display:none;\">\n",
              "        \n",
              "  <svg xmlns=\"http://www.w3.org/2000/svg\" height=\"24px\"viewBox=\"0 0 24 24\"\n",
              "       width=\"24px\">\n",
              "    <path d=\"M0 0h24v24H0V0z\" fill=\"none\"/>\n",
              "    <path d=\"M18.56 5.44l.94 2.06.94-2.06 2.06-.94-2.06-.94-.94-2.06-.94 2.06-2.06.94zm-11 1L8.5 8.5l.94-2.06 2.06-.94-2.06-.94L8.5 2.5l-.94 2.06-2.06.94zm10 10l.94 2.06.94-2.06 2.06-.94-2.06-.94-.94-2.06-.94 2.06-2.06.94z\"/><path d=\"M17.41 7.96l-1.37-1.37c-.4-.4-.92-.59-1.43-.59-.52 0-1.04.2-1.43.59L10.3 9.45l-7.72 7.72c-.78.78-.78 2.05 0 2.83L4 21.41c.39.39.9.59 1.41.59.51 0 1.02-.2 1.41-.59l7.78-7.78 2.81-2.81c.8-.78.8-2.07 0-2.86zM5.41 20L4 18.59l7.72-7.72 1.47 1.35L5.41 20z\"/>\n",
              "  </svg>\n",
              "      </button>\n",
              "      \n",
              "  <style>\n",
              "    .colab-df-container {\n",
              "      display:flex;\n",
              "      flex-wrap:wrap;\n",
              "      gap: 12px;\n",
              "    }\n",
              "\n",
              "    .colab-df-convert {\n",
              "      background-color: #E8F0FE;\n",
              "      border: none;\n",
              "      border-radius: 50%;\n",
              "      cursor: pointer;\n",
              "      display: none;\n",
              "      fill: #1967D2;\n",
              "      height: 32px;\n",
              "      padding: 0 0 0 0;\n",
              "      width: 32px;\n",
              "    }\n",
              "\n",
              "    .colab-df-convert:hover {\n",
              "      background-color: #E2EBFA;\n",
              "      box-shadow: 0px 1px 2px rgba(60, 64, 67, 0.3), 0px 1px 3px 1px rgba(60, 64, 67, 0.15);\n",
              "      fill: #174EA6;\n",
              "    }\n",
              "\n",
              "    [theme=dark] .colab-df-convert {\n",
              "      background-color: #3B4455;\n",
              "      fill: #D2E3FC;\n",
              "    }\n",
              "\n",
              "    [theme=dark] .colab-df-convert:hover {\n",
              "      background-color: #434B5C;\n",
              "      box-shadow: 0px 1px 3px 1px rgba(0, 0, 0, 0.15);\n",
              "      filter: drop-shadow(0px 1px 2px rgba(0, 0, 0, 0.3));\n",
              "      fill: #FFFFFF;\n",
              "    }\n",
              "  </style>\n",
              "\n",
              "      <script>\n",
              "        const buttonEl =\n",
              "          document.querySelector('#df-a5052c4c-e69e-44d7-adbb-54b90df20789 button.colab-df-convert');\n",
              "        buttonEl.style.display =\n",
              "          google.colab.kernel.accessAllowed ? 'block' : 'none';\n",
              "\n",
              "        async function convertToInteractive(key) {\n",
              "          const element = document.querySelector('#df-a5052c4c-e69e-44d7-adbb-54b90df20789');\n",
              "          const dataTable =\n",
              "            await google.colab.kernel.invokeFunction('convertToInteractive',\n",
              "                                                     [key], {});\n",
              "          if (!dataTable) return;\n",
              "\n",
              "          const docLinkHtml = 'Like what you see? Visit the ' +\n",
              "            '<a target=\"_blank\" href=https://colab.research.google.com/notebooks/data_table.ipynb>data table notebook</a>'\n",
              "            + ' to learn more about interactive tables.';\n",
              "          element.innerHTML = '';\n",
              "          dataTable['output_type'] = 'display_data';\n",
              "          await google.colab.output.renderOutput(dataTable, element);\n",
              "          const docLink = document.createElement('div');\n",
              "          docLink.innerHTML = docLinkHtml;\n",
              "          element.appendChild(docLink);\n",
              "        }\n",
              "      </script>\n",
              "    </div>\n",
              "  </div>\n",
              "  "
            ]
          },
          "metadata": {},
          "execution_count": 141
        },
        {
          "output_type": "stream",
          "name": "stdout",
          "text": [
            "    country_name  eci_2018  coi_2018  gdp_per_capita  log_gdp  residuals  residuals_norm\n",
            "135   Mozambique     -1.26     -0.65          504.54     6.22       0.06            0.08\n",
            "   country_name  eci_2018  coi_2018  gdp_per_capita  log_gdp  residuals  residuals_norm\n",
            "64      Ecuador     -0.89     -0.66         6321.35     8.75      -0.81           -1.10\n",
            "   country_name  eci_2018  coi_2018  gdp_per_capita  log_gdp  residuals  residuals_norm\n",
            "78      Germany      1.85     -1.97        47939.28    10.78       0.95            1.29\n"
          ]
        },
        {
          "output_type": "display_data",
          "data": {
            "text/plain": [
              "<Figure size 640x480 with 1 Axes>"
            ],
            "image/png": "[encoded data removed]"
          },
          "metadata": {}
        }
      ]
    },
    {
      "cell_type": "code",
      "source": [
        "\n",
        "\n",
        "# Initialize layout\n",
        "fig, ax = plt.subplots(figsize = (10, 6))\n",
        "ecipercentile90th=t_residuals.eci_2018.quantile(0.9)\n",
        "eci2018 = t_residuals['eci_2018']\n",
        "coi18 =  t_residuals['coi_2018']\n",
        "residuals2018 =  t_residuals['residuals']\n",
        "countries2018 = t_residuals['country_name']\n",
        "\n",
        "ax.set_xlim(-3,3)\n",
        "ax.set_ylim(-4, 4)\n",
        "\n",
        "# ax2.set_xlim(0.865,1)\n",
        "\n",
        "ax.scatter(residuals2018, coi18, s=60, alpha=0.7, edgecolors=\"k\",cmap='silver')\n",
        "# ax2.plot(xvalues,eci2014, color='red',linestyle='dashed')\n",
        "\n",
        "ax.hlines(y=0, xmin=-3, xmax=3, linewidth=1, color='r')\n",
        "ax.vlines(ymin=-4,ymax=4, x=0, linewidth=1, color='r')\n",
        "\n",
        "\n",
        "# plt.plot(,df_final_moz['eci'], '\"r-\"')\n",
        "\n",
        "\n",
        "ax.set_xlabel('Residuals de la regresión ECI-GDP per capita ')\n",
        "ax.set_ylabel('Proximity to complex products (COI)')\n",
        "\n",
        "plt.title(\"La figura corresponder a la proposición 2 de feasible products [2018]\",fontsize=12,fontweight=\"bold\")\n",
        "\n",
        "plt.suptitle(\n",
        "    \"Figura 15: Strategic approach [2018]\",\n",
        "    fontsize=16,\n",
        "    fontweight=\"bold\",\n",
        "    x=0.126,\n",
        "    y=0.96,\n",
        "    ha=\"left\",  wrap=True,\n",
        ")\n",
        "\n",
        "# color = [str(item/255.) for item in pci2018]\n",
        "# y = np.random.random(89)\n",
        "\n",
        "#Se añade el label y el color sólo a Ecuador. \n",
        "\n",
        "for (resiz,coiz,countz,eciz) in zip(residuals2018,coi18,countries2018,eci2018):\n",
        "        if (coiz >= 0 and resiz <= 0):\n",
        "          plt.scatter(resiz,coiz, color='yellow')\n",
        "        if (countz=='Mozambique' or countz=='Ecuador'):\n",
        "          plt.scatter(resiz,coiz,color='red')\n",
        "          plt.text(resiz,coiz, countz, va='bottom', ha='right')\n",
        "        if (coiz >= 0 and resiz > 0):\n",
        "          plt.scatter(resiz,coiz, edgecolors='white', color='silver')\n",
        "        if (eciz>=1.223):\n",
        "          plt.scatter(resiz,coiz,color='green')\n",
        "          # plt.text(resiz,coiz, countz, va='bottom', ha='right')  \n",
        "  \n",
        "\n",
        "\n",
        "plt.show()\n",
        "\n",
        "\n",
        "# ax2.set_ylabel(\"ECI de Mozambique [2014]\", fontsize=14)\n",
        "\n",
        "# fig.autofmt_xdate()"
      ],
      "metadata": {
        "colab": {
          "base_uri": "https://localhost:8080/",
          "height": 1000
        },
        "id": "URVfkq9HsNGa",
        "outputId": "e0759fd8-37c9-4d84-cd45-5734d1f6c392"
      },
      "execution_count": null,
      "outputs": [
        {
          "output_type": "execute_result",
          "data": {
            "text/plain": [
              "(-3.0, 3.0)"
            ]
          },
          "metadata": {},
          "execution_count": 142
        },
        {
          "output_type": "execute_result",
          "data": {
            "text/plain": [
              "(-4.0, 4.0)"
            ]
          },
          "metadata": {},
          "execution_count": 142
        },
        {
          "output_type": "execute_result",
          "data": {
            "text/plain": [
              "<matplotlib.collections.PathCollection at 0x7f3846961d90>"
            ]
          },
          "metadata": {},
          "execution_count": 142
        },
        {
          "output_type": "execute_result",
          "data": {
            "text/plain": [
              "<matplotlib.collections.LineCollection at 0x7f3846961f70>"
            ]
          },
          "metadata": {},
          "execution_count": 142
        },
        {
          "output_type": "execute_result",
          "data": {
            "text/plain": [
              "<matplotlib.collections.LineCollection at 0x7f384694de20>"
            ]
          },
          "metadata": {},
          "execution_count": 142
        },
        {
          "output_type": "execute_result",
          "data": {
            "text/plain": [
              "Text(0.5, 0, 'Residuals de la regresión ECI-GDP per capita ')"
            ]
          },
          "metadata": {},
          "execution_count": 142
        },
        {
          "output_type": "execute_result",
          "data": {
            "text/plain": [
              "Text(0, 0.5, 'Proximity to complex products (COI)')"
            ]
          },
          "metadata": {},
          "execution_count": 142
        },
        {
          "output_type": "execute_result",
          "data": {
            "text/plain": [
              "Text(0.5, 1.0, 'La figura corresponder a la proposición 2 de feasible products [2018]')"
            ]
          },
          "metadata": {},
          "execution_count": 142
        },
        {
          "output_type": "execute_result",
          "data": {
            "text/plain": [
              "Text(0.126, 0.96, 'Figura 15: Strategic approach [2018]')"
            ]
          },
          "metadata": {},
          "execution_count": 142
        },
        {
          "output_type": "execute_result",
          "data": {
            "text/plain": [
              "<matplotlib.collections.PathCollection at 0x7f38450d8340>"
            ]
          },
          "metadata": {},
          "execution_count": 142
        },
        {
          "output_type": "execute_result",
          "data": {
            "text/plain": [
              "<matplotlib.collections.PathCollection at 0x7f3805009c10>"
            ]
          },
          "metadata": {},
          "execution_count": 142
        },
        {
          "output_type": "execute_result",
          "data": {
            "text/plain": [
              "<matplotlib.collections.PathCollection at 0x7f38450d8670>"
            ]
          },
          "metadata": {},
          "execution_count": 142
        },
        {
          "output_type": "execute_result",
          "data": {
            "text/plain": [
              "<matplotlib.collections.PathCollection at 0x7f38450d86a0>"
            ]
          },
          "metadata": {},
          "execution_count": 142
        },
        {
          "output_type": "execute_result",
          "data": {
            "text/plain": [
              "<matplotlib.collections.PathCollection at 0x7f381b58c400>"
            ]
          },
          "metadata": {},
          "execution_count": 142
        },
        {
          "output_type": "execute_result",
          "data": {
            "text/plain": [
              "<matplotlib.collections.PathCollection at 0x7f38450bbf10>"
            ]
          },
          "metadata": {},
          "execution_count": 142
        },
        {
          "output_type": "execute_result",
          "data": {
            "text/plain": [
              "<matplotlib.collections.PathCollection at 0x7f38450debb0>"
            ]
          },
          "metadata": {},
          "execution_count": 142
        },
        {
          "output_type": "execute_result",
          "data": {
            "text/plain": [
              "<matplotlib.collections.PathCollection at 0x7f381b58d100>"
            ]
          },
          "metadata": {},
          "execution_count": 142
        },
        {
          "output_type": "execute_result",
          "data": {
            "text/plain": [
              "<matplotlib.collections.PathCollection at 0x7f38450de9a0>"
            ]
          },
          "metadata": {},
          "execution_count": 142
        },
        {
          "output_type": "execute_result",
          "data": {
            "text/plain": [
              "<matplotlib.collections.PathCollection at 0x7f38450d3e20>"
            ]
          },
          "metadata": {},
          "execution_count": 142
        },
        {
          "output_type": "execute_result",
          "data": {
            "text/plain": [
              "<matplotlib.collections.PathCollection at 0x7f38450de550>"
            ]
          },
          "metadata": {},
          "execution_count": 142
        },
        {
          "output_type": "execute_result",
          "data": {
            "text/plain": [
              "<matplotlib.collections.PathCollection at 0x7f38450d0520>"
            ]
          },
          "metadata": {},
          "execution_count": 142
        },
        {
          "output_type": "execute_result",
          "data": {
            "text/plain": [
              "<matplotlib.collections.PathCollection at 0x7f38450d0d90>"
            ]
          },
          "metadata": {},
          "execution_count": 142
        },
        {
          "output_type": "execute_result",
          "data": {
            "text/plain": [
              "<matplotlib.collections.PathCollection at 0x7f38450de4c0>"
            ]
          },
          "metadata": {},
          "execution_count": 142
        },
        {
          "output_type": "execute_result",
          "data": {
            "text/plain": [
              "<matplotlib.collections.PathCollection at 0x7f38469342b0>"
            ]
          },
          "metadata": {},
          "execution_count": 142
        },
        {
          "output_type": "execute_result",
          "data": {
            "text/plain": [
              "<matplotlib.collections.PathCollection at 0x7f3846934370>"
            ]
          },
          "metadata": {},
          "execution_count": 142
        },
        {
          "output_type": "execute_result",
          "data": {
            "text/plain": [
              "<matplotlib.collections.PathCollection at 0x7f385e334f40>"
            ]
          },
          "metadata": {},
          "execution_count": 142
        },
        {
          "output_type": "execute_result",
          "data": {
            "text/plain": [
              "<matplotlib.collections.PathCollection at 0x7f385e38f0d0>"
            ]
          },
          "metadata": {},
          "execution_count": 142
        },
        {
          "output_type": "execute_result",
          "data": {
            "text/plain": [
              "<matplotlib.collections.PathCollection at 0x7f3845a1f700>"
            ]
          },
          "metadata": {},
          "execution_count": 142
        },
        {
          "output_type": "execute_result",
          "data": {
            "text/plain": [
              "<matplotlib.collections.PathCollection at 0x7f3845a1f4f0>"
            ]
          },
          "metadata": {},
          "execution_count": 142
        },
        {
          "output_type": "execute_result",
          "data": {
            "text/plain": [
              "<matplotlib.collections.PathCollection at 0x7f38342635b0>"
            ]
          },
          "metadata": {},
          "execution_count": 142
        },
        {
          "output_type": "execute_result",
          "data": {
            "text/plain": [
              "<matplotlib.collections.PathCollection at 0x7f3834263e80>"
            ]
          },
          "metadata": {},
          "execution_count": 142
        },
        {
          "output_type": "execute_result",
          "data": {
            "text/plain": [
              "<matplotlib.collections.PathCollection at 0x7f3834263f70>"
            ]
          },
          "metadata": {},
          "execution_count": 142
        },
        {
          "output_type": "execute_result",
          "data": {
            "text/plain": [
              "<matplotlib.collections.PathCollection at 0x7f385e430790>"
            ]
          },
          "metadata": {},
          "execution_count": 142
        },
        {
          "output_type": "execute_result",
          "data": {
            "text/plain": [
              "<matplotlib.collections.PathCollection at 0x7f385e430580>"
            ]
          },
          "metadata": {},
          "execution_count": 142
        },
        {
          "output_type": "execute_result",
          "data": {
            "text/plain": [
              "<matplotlib.collections.PathCollection at 0x7f385e430490>"
            ]
          },
          "metadata": {},
          "execution_count": 142
        },
        {
          "output_type": "execute_result",
          "data": {
            "text/plain": [
              "<matplotlib.collections.PathCollection at 0x7f385e4695e0>"
            ]
          },
          "metadata": {},
          "execution_count": 142
        },
        {
          "output_type": "execute_result",
          "data": {
            "text/plain": [
              "<matplotlib.collections.PathCollection at 0x7f385e45bd30>"
            ]
          },
          "metadata": {},
          "execution_count": 142
        },
        {
          "output_type": "execute_result",
          "data": {
            "text/plain": [
              "Text(-0.807064760452141, -0.6642381802697896, 'Ecuador')"
            ]
          },
          "metadata": {},
          "execution_count": 142
        },
        {
          "output_type": "execute_result",
          "data": {
            "text/plain": [
              "<matplotlib.collections.PathCollection at 0x7f3846129f10>"
            ]
          },
          "metadata": {},
          "execution_count": 142
        },
        {
          "output_type": "execute_result",
          "data": {
            "text/plain": [
              "<matplotlib.collections.PathCollection at 0x7f38040d0820>"
            ]
          },
          "metadata": {},
          "execution_count": 142
        },
        {
          "output_type": "execute_result",
          "data": {
            "text/plain": [
              "<matplotlib.collections.PathCollection at 0x7f3846129d30>"
            ]
          },
          "metadata": {},
          "execution_count": 142
        },
        {
          "output_type": "execute_result",
          "data": {
            "text/plain": [
              "<matplotlib.collections.PathCollection at 0x7f385e469040>"
            ]
          },
          "metadata": {},
          "execution_count": 142
        },
        {
          "output_type": "execute_result",
          "data": {
            "text/plain": [
              "<matplotlib.collections.PathCollection at 0x7f383351c4f0>"
            ]
          },
          "metadata": {},
          "execution_count": 142
        },
        {
          "output_type": "execute_result",
          "data": {
            "text/plain": [
              "<matplotlib.collections.PathCollection at 0x7f388891dd30>"
            ]
          },
          "metadata": {},
          "execution_count": 142
        },
        {
          "output_type": "execute_result",
          "data": {
            "text/plain": [
              "<matplotlib.collections.PathCollection at 0x7f383351cca0>"
            ]
          },
          "metadata": {},
          "execution_count": 142
        },
        {
          "output_type": "execute_result",
          "data": {
            "text/plain": [
              "<matplotlib.collections.PathCollection at 0x7f385e410400>"
            ]
          },
          "metadata": {},
          "execution_count": 142
        },
        {
          "output_type": "execute_result",
          "data": {
            "text/plain": [
              "<matplotlib.collections.PathCollection at 0x7f385e4105b0>"
            ]
          },
          "metadata": {},
          "execution_count": 142
        },
        {
          "output_type": "execute_result",
          "data": {
            "text/plain": [
              "<matplotlib.collections.PathCollection at 0x7f3873b26670>"
            ]
          },
          "metadata": {},
          "execution_count": 142
        },
        {
          "output_type": "execute_result",
          "data": {
            "text/plain": [
              "<matplotlib.collections.PathCollection at 0x7f3873daf9d0>"
            ]
          },
          "metadata": {},
          "execution_count": 142
        },
        {
          "output_type": "execute_result",
          "data": {
            "text/plain": [
              "<matplotlib.collections.PathCollection at 0x7f38de5f8df0>"
            ]
          },
          "metadata": {},
          "execution_count": 142
        },
        {
          "output_type": "execute_result",
          "data": {
            "text/plain": [
              "<matplotlib.collections.PathCollection at 0x7f3873e753d0>"
            ]
          },
          "metadata": {},
          "execution_count": 142
        },
        {
          "output_type": "execute_result",
          "data": {
            "text/plain": [
              "<matplotlib.collections.PathCollection at 0x7f3873e754c0>"
            ]
          },
          "metadata": {},
          "execution_count": 142
        },
        {
          "output_type": "execute_result",
          "data": {
            "text/plain": [
              "<matplotlib.collections.PathCollection at 0x7f385e410b20>"
            ]
          },
          "metadata": {},
          "execution_count": 142
        },
        {
          "output_type": "execute_result",
          "data": {
            "text/plain": [
              "<matplotlib.collections.PathCollection at 0x7f38461292e0>"
            ]
          },
          "metadata": {},
          "execution_count": 142
        },
        {
          "output_type": "execute_result",
          "data": {
            "text/plain": [
              "<matplotlib.collections.PathCollection at 0x7f3833dacbb0>"
            ]
          },
          "metadata": {},
          "execution_count": 142
        },
        {
          "output_type": "execute_result",
          "data": {
            "text/plain": [
              "<matplotlib.collections.PathCollection at 0x7f3873e10af0>"
            ]
          },
          "metadata": {},
          "execution_count": 142
        },
        {
          "output_type": "execute_result",
          "data": {
            "text/plain": [
              "<matplotlib.collections.PathCollection at 0x7f3873e2f700>"
            ]
          },
          "metadata": {},
          "execution_count": 142
        },
        {
          "output_type": "execute_result",
          "data": {
            "text/plain": [
              "<matplotlib.collections.PathCollection at 0x7f3873e2f6a0>"
            ]
          },
          "metadata": {},
          "execution_count": 142
        },
        {
          "output_type": "execute_result",
          "data": {
            "text/plain": [
              "<matplotlib.collections.PathCollection at 0x7f3873e2f760>"
            ]
          },
          "metadata": {},
          "execution_count": 142
        },
        {
          "output_type": "execute_result",
          "data": {
            "text/plain": [
              "<matplotlib.collections.PathCollection at 0x7f3873e2fc70>"
            ]
          },
          "metadata": {},
          "execution_count": 142
        },
        {
          "output_type": "execute_result",
          "data": {
            "text/plain": [
              "<matplotlib.collections.PathCollection at 0x7f3873dcebe0>"
            ]
          },
          "metadata": {},
          "execution_count": 142
        },
        {
          "output_type": "execute_result",
          "data": {
            "text/plain": [
              "<matplotlib.collections.PathCollection at 0x7f3873dce1f0>"
            ]
          },
          "metadata": {},
          "execution_count": 142
        },
        {
          "output_type": "execute_result",
          "data": {
            "text/plain": [
              "<matplotlib.collections.PathCollection at 0x7f388845f100>"
            ]
          },
          "metadata": {},
          "execution_count": 142
        },
        {
          "output_type": "execute_result",
          "data": {
            "text/plain": [
              "<matplotlib.collections.PathCollection at 0x7f3833d86bb0>"
            ]
          },
          "metadata": {},
          "execution_count": 142
        },
        {
          "output_type": "execute_result",
          "data": {
            "text/plain": [
              "<matplotlib.collections.PathCollection at 0x7f3873e14040>"
            ]
          },
          "metadata": {},
          "execution_count": 142
        },
        {
          "output_type": "execute_result",
          "data": {
            "text/plain": [
              "<matplotlib.collections.PathCollection at 0x7f3833db66d0>"
            ]
          },
          "metadata": {},
          "execution_count": 142
        },
        {
          "output_type": "execute_result",
          "data": {
            "text/plain": [
              "<matplotlib.collections.PathCollection at 0x7f3833d97e80>"
            ]
          },
          "metadata": {},
          "execution_count": 142
        },
        {
          "output_type": "execute_result",
          "data": {
            "text/plain": [
              "<matplotlib.collections.PathCollection at 0x7f3873b7aeb0>"
            ]
          },
          "metadata": {},
          "execution_count": 142
        },
        {
          "output_type": "execute_result",
          "data": {
            "text/plain": [
              "<matplotlib.collections.PathCollection at 0x7f3873b36760>"
            ]
          },
          "metadata": {},
          "execution_count": 142
        },
        {
          "output_type": "execute_result",
          "data": {
            "text/plain": [
              "<matplotlib.collections.PathCollection at 0x7f38887d9df0>"
            ]
          },
          "metadata": {},
          "execution_count": 142
        },
        {
          "output_type": "execute_result",
          "data": {
            "text/plain": [
              "<matplotlib.collections.PathCollection at 0x7f3873b36f70>"
            ]
          },
          "metadata": {},
          "execution_count": 142
        },
        {
          "output_type": "execute_result",
          "data": {
            "text/plain": [
              "<matplotlib.collections.PathCollection at 0x7f3873da83a0>"
            ]
          },
          "metadata": {},
          "execution_count": 142
        },
        {
          "output_type": "execute_result",
          "data": {
            "text/plain": [
              "<matplotlib.collections.PathCollection at 0x7f3804fe3820>"
            ]
          },
          "metadata": {},
          "execution_count": 142
        },
        {
          "output_type": "execute_result",
          "data": {
            "text/plain": [
              "<matplotlib.collections.PathCollection at 0x7f3833d97fd0>"
            ]
          },
          "metadata": {},
          "execution_count": 142
        },
        {
          "output_type": "execute_result",
          "data": {
            "text/plain": [
              "<matplotlib.collections.PathCollection at 0x7f385e443d90>"
            ]
          },
          "metadata": {},
          "execution_count": 142
        },
        {
          "output_type": "execute_result",
          "data": {
            "text/plain": [
              "<matplotlib.collections.PathCollection at 0x7f385e443c40>"
            ]
          },
          "metadata": {},
          "execution_count": 142
        },
        {
          "output_type": "execute_result",
          "data": {
            "text/plain": [
              "<matplotlib.collections.PathCollection at 0x7f3873da8580>"
            ]
          },
          "metadata": {},
          "execution_count": 142
        },
        {
          "output_type": "execute_result",
          "data": {
            "text/plain": [
              "<matplotlib.collections.PathCollection at 0x7f38719cf9a0>"
            ]
          },
          "metadata": {},
          "execution_count": 142
        },
        {
          "output_type": "execute_result",
          "data": {
            "text/plain": [
              "<matplotlib.collections.PathCollection at 0x7f383fac6760>"
            ]
          },
          "metadata": {},
          "execution_count": 142
        },
        {
          "output_type": "execute_result",
          "data": {
            "text/plain": [
              "<matplotlib.collections.PathCollection at 0x7f383fac6f40>"
            ]
          },
          "metadata": {},
          "execution_count": 142
        },
        {
          "output_type": "execute_result",
          "data": {
            "text/plain": [
              "Text(0.058148204504902656, -0.6450983659816989, 'Mozambique')"
            ]
          },
          "metadata": {},
          "execution_count": 142
        },
        {
          "output_type": "execute_result",
          "data": {
            "text/plain": [
              "<matplotlib.collections.PathCollection at 0x7f3804ff0610>"
            ]
          },
          "metadata": {},
          "execution_count": 142
        },
        {
          "output_type": "execute_result",
          "data": {
            "text/plain": [
              "<matplotlib.collections.PathCollection at 0x7f3804fe36a0>"
            ]
          },
          "metadata": {},
          "execution_count": 142
        },
        {
          "output_type": "execute_result",
          "data": {
            "text/plain": [
              "<matplotlib.collections.PathCollection at 0x7f3804fe2490>"
            ]
          },
          "metadata": {},
          "execution_count": 142
        },
        {
          "output_type": "execute_result",
          "data": {
            "text/plain": [
              "<matplotlib.collections.PathCollection at 0x7f385e43d160>"
            ]
          },
          "metadata": {},
          "execution_count": 142
        },
        {
          "output_type": "execute_result",
          "data": {
            "text/plain": [
              "<matplotlib.collections.PathCollection at 0x7f3804fe21c0>"
            ]
          },
          "metadata": {},
          "execution_count": 142
        },
        {
          "output_type": "execute_result",
          "data": {
            "text/plain": [
              "<matplotlib.collections.PathCollection at 0x7f385e43d970>"
            ]
          },
          "metadata": {},
          "execution_count": 142
        },
        {
          "output_type": "execute_result",
          "data": {
            "text/plain": [
              "<matplotlib.collections.PathCollection at 0x7f383fac6df0>"
            ]
          },
          "metadata": {},
          "execution_count": 142
        },
        {
          "output_type": "execute_result",
          "data": {
            "text/plain": [
              "<matplotlib.collections.PathCollection at 0x7f383353df70>"
            ]
          },
          "metadata": {},
          "execution_count": 142
        },
        {
          "output_type": "execute_result",
          "data": {
            "text/plain": [
              "<matplotlib.collections.PathCollection at 0x7f3804ff3b20>"
            ]
          },
          "metadata": {},
          "execution_count": 142
        },
        {
          "output_type": "execute_result",
          "data": {
            "text/plain": [
              "<matplotlib.collections.PathCollection at 0x7f3804ff3190>"
            ]
          },
          "metadata": {},
          "execution_count": 142
        },
        {
          "output_type": "execute_result",
          "data": {
            "text/plain": [
              "<matplotlib.collections.PathCollection at 0x7f385e43d250>"
            ]
          },
          "metadata": {},
          "execution_count": 142
        },
        {
          "output_type": "execute_result",
          "data": {
            "text/plain": [
              "<matplotlib.collections.PathCollection at 0x7f3804ff3340>"
            ]
          },
          "metadata": {},
          "execution_count": 142
        },
        {
          "output_type": "execute_result",
          "data": {
            "text/plain": [
              "<matplotlib.collections.PathCollection at 0x7f38719f1850>"
            ]
          },
          "metadata": {},
          "execution_count": 142
        },
        {
          "output_type": "execute_result",
          "data": {
            "text/plain": [
              "<matplotlib.collections.PathCollection at 0x7f3804ff32e0>"
            ]
          },
          "metadata": {},
          "execution_count": 142
        },
        {
          "output_type": "execute_result",
          "data": {
            "text/plain": [
              "<matplotlib.collections.PathCollection at 0x7f3873ef8c70>"
            ]
          },
          "metadata": {},
          "execution_count": 142
        },
        {
          "output_type": "execute_result",
          "data": {
            "text/plain": [
              "<matplotlib.collections.PathCollection at 0x7f3873ef8820>"
            ]
          },
          "metadata": {},
          "execution_count": 142
        },
        {
          "output_type": "execute_result",
          "data": {
            "text/plain": [
              "<matplotlib.collections.PathCollection at 0x7f3873ef8a60>"
            ]
          },
          "metadata": {},
          "execution_count": 142
        },
        {
          "output_type": "execute_result",
          "data": {
            "text/plain": [
              "<matplotlib.collections.PathCollection at 0x7f383fae98e0>"
            ]
          },
          "metadata": {},
          "execution_count": 142
        },
        {
          "output_type": "execute_result",
          "data": {
            "text/plain": [
              "<matplotlib.collections.PathCollection at 0x7f38719dcaf0>"
            ]
          },
          "metadata": {},
          "execution_count": 142
        },
        {
          "output_type": "execute_result",
          "data": {
            "text/plain": [
              "<matplotlib.collections.PathCollection at 0x7f3804ff36a0>"
            ]
          },
          "metadata": {},
          "execution_count": 142
        },
        {
          "output_type": "execute_result",
          "data": {
            "text/plain": [
              "<matplotlib.collections.PathCollection at 0x7f385e3fca00>"
            ]
          },
          "metadata": {},
          "execution_count": 142
        },
        {
          "output_type": "execute_result",
          "data": {
            "text/plain": [
              "<matplotlib.collections.PathCollection at 0x7f385e3fc3a0>"
            ]
          },
          "metadata": {},
          "execution_count": 142
        },
        {
          "output_type": "execute_result",
          "data": {
            "text/plain": [
              "<matplotlib.collections.PathCollection at 0x7f385e3fce80>"
            ]
          },
          "metadata": {},
          "execution_count": 142
        },
        {
          "output_type": "execute_result",
          "data": {
            "text/plain": [
              "<matplotlib.collections.PathCollection at 0x7f383faf0520>"
            ]
          },
          "metadata": {},
          "execution_count": 142
        },
        {
          "output_type": "execute_result",
          "data": {
            "text/plain": [
              "<matplotlib.collections.PathCollection at 0x7f383faf0b50>"
            ]
          },
          "metadata": {},
          "execution_count": 142
        },
        {
          "output_type": "execute_result",
          "data": {
            "text/plain": [
              "<matplotlib.collections.PathCollection at 0x7f383faf0850>"
            ]
          },
          "metadata": {},
          "execution_count": 142
        },
        {
          "output_type": "execute_result",
          "data": {
            "text/plain": [
              "<matplotlib.collections.PathCollection at 0x7f385e03f760>"
            ]
          },
          "metadata": {},
          "execution_count": 142
        },
        {
          "output_type": "execute_result",
          "data": {
            "text/plain": [
              "<matplotlib.collections.PathCollection at 0x7f383faf06a0>"
            ]
          },
          "metadata": {},
          "execution_count": 142
        },
        {
          "output_type": "execute_result",
          "data": {
            "text/plain": [
              "<matplotlib.collections.PathCollection at 0x7f38461299d0>"
            ]
          },
          "metadata": {},
          "execution_count": 142
        },
        {
          "output_type": "execute_result",
          "data": {
            "text/plain": [
              "<matplotlib.collections.PathCollection at 0x7f385e0481f0>"
            ]
          },
          "metadata": {},
          "execution_count": 142
        },
        {
          "output_type": "execute_result",
          "data": {
            "text/plain": [
              "<matplotlib.collections.PathCollection at 0x7f385e048760>"
            ]
          },
          "metadata": {},
          "execution_count": 142
        },
        {
          "output_type": "execute_result",
          "data": {
            "text/plain": [
              "<matplotlib.collections.PathCollection at 0x7f385e0486d0>"
            ]
          },
          "metadata": {},
          "execution_count": 142
        },
        {
          "output_type": "execute_result",
          "data": {
            "text/plain": [
              "<matplotlib.collections.PathCollection at 0x7f385e048df0>"
            ]
          },
          "metadata": {},
          "execution_count": 142
        },
        {
          "output_type": "execute_result",
          "data": {
            "text/plain": [
              "<matplotlib.collections.PathCollection at 0x7f381c1a42e0>"
            ]
          },
          "metadata": {},
          "execution_count": 142
        },
        {
          "output_type": "execute_result",
          "data": {
            "text/plain": [
              "<matplotlib.collections.PathCollection at 0x7f385e0485e0>"
            ]
          },
          "metadata": {},
          "execution_count": 142
        },
        {
          "output_type": "execute_result",
          "data": {
            "text/plain": [
              "<matplotlib.collections.PathCollection at 0x7f381c1a4970>"
            ]
          },
          "metadata": {},
          "execution_count": 142
        },
        {
          "output_type": "execute_result",
          "data": {
            "text/plain": [
              "<matplotlib.collections.PathCollection at 0x7f381c1a4dc0>"
            ]
          },
          "metadata": {},
          "execution_count": 142
        },
        {
          "output_type": "execute_result",
          "data": {
            "text/plain": [
              "<matplotlib.collections.PathCollection at 0x7f381c1a4d60>"
            ]
          },
          "metadata": {},
          "execution_count": 142
        },
        {
          "output_type": "execute_result",
          "data": {
            "text/plain": [
              "<matplotlib.collections.PathCollection at 0x7f385e048a90>"
            ]
          },
          "metadata": {},
          "execution_count": 142
        },
        {
          "output_type": "execute_result",
          "data": {
            "text/plain": [
              "<matplotlib.collections.PathCollection at 0x7f381c1ae9a0>"
            ]
          },
          "metadata": {},
          "execution_count": 142
        },
        {
          "output_type": "execute_result",
          "data": {
            "text/plain": [
              "<matplotlib.collections.PathCollection at 0x7f381c1a4d00>"
            ]
          },
          "metadata": {},
          "execution_count": 142
        },
        {
          "output_type": "execute_result",
          "data": {
            "text/plain": [
              "<matplotlib.collections.PathCollection at 0x7f381c1aefa0>"
            ]
          },
          "metadata": {},
          "execution_count": 142
        },
        {
          "output_type": "execute_result",
          "data": {
            "text/plain": [
              "<matplotlib.collections.PathCollection at 0x7f381c1c64c0>"
            ]
          },
          "metadata": {},
          "execution_count": 142
        },
        {
          "output_type": "execute_result",
          "data": {
            "text/plain": [
              "<matplotlib.collections.PathCollection at 0x7f385e048700>"
            ]
          },
          "metadata": {},
          "execution_count": 142
        },
        {
          "output_type": "execute_result",
          "data": {
            "text/plain": [
              "<matplotlib.collections.PathCollection at 0x7f381c1c6bb0>"
            ]
          },
          "metadata": {},
          "execution_count": 142
        },
        {
          "output_type": "execute_result",
          "data": {
            "text/plain": [
              "<matplotlib.collections.PathCollection at 0x7f381c1aefd0>"
            ]
          },
          "metadata": {},
          "execution_count": 142
        },
        {
          "output_type": "execute_result",
          "data": {
            "text/plain": [
              "<matplotlib.collections.PathCollection at 0x7f381c1c6f40>"
            ]
          },
          "metadata": {},
          "execution_count": 142
        },
        {
          "output_type": "execute_result",
          "data": {
            "text/plain": [
              "<matplotlib.collections.PathCollection at 0x7f381c1da730>"
            ]
          },
          "metadata": {},
          "execution_count": 142
        },
        {
          "output_type": "execute_result",
          "data": {
            "text/plain": [
              "<matplotlib.collections.PathCollection at 0x7f381c1dab80>"
            ]
          },
          "metadata": {},
          "execution_count": 142
        },
        {
          "output_type": "execute_result",
          "data": {
            "text/plain": [
              "<matplotlib.collections.PathCollection at 0x7f381c1a48b0>"
            ]
          },
          "metadata": {},
          "execution_count": 142
        },
        {
          "output_type": "execute_result",
          "data": {
            "text/plain": [
              "<matplotlib.collections.PathCollection at 0x7f38047301f0>"
            ]
          },
          "metadata": {},
          "execution_count": 142
        },
        {
          "output_type": "execute_result",
          "data": {
            "text/plain": [
              "<matplotlib.collections.PathCollection at 0x7f3804730700>"
            ]
          },
          "metadata": {},
          "execution_count": 142
        },
        {
          "output_type": "execute_result",
          "data": {
            "text/plain": [
              "<matplotlib.collections.PathCollection at 0x7f381c1c6be0>"
            ]
          },
          "metadata": {},
          "execution_count": 142
        },
        {
          "output_type": "execute_result",
          "data": {
            "text/plain": [
              "<matplotlib.collections.PathCollection at 0x7f3804730dc0>"
            ]
          },
          "metadata": {},
          "execution_count": 142
        },
        {
          "output_type": "execute_result",
          "data": {
            "text/plain": [
              "<matplotlib.collections.PathCollection at 0x7f380472f280>"
            ]
          },
          "metadata": {},
          "execution_count": 142
        },
        {
          "output_type": "execute_result",
          "data": {
            "text/plain": [
              "<matplotlib.collections.PathCollection at 0x7f3804730e50>"
            ]
          },
          "metadata": {},
          "execution_count": 142
        },
        {
          "output_type": "execute_result",
          "data": {
            "text/plain": [
              "<matplotlib.collections.PathCollection at 0x7f380472fa00>"
            ]
          },
          "metadata": {},
          "execution_count": 142
        },
        {
          "output_type": "execute_result",
          "data": {
            "text/plain": [
              "<matplotlib.collections.PathCollection at 0x7f380472fe20>"
            ]
          },
          "metadata": {},
          "execution_count": 142
        },
        {
          "output_type": "execute_result",
          "data": {
            "text/plain": [
              "<matplotlib.collections.PathCollection at 0x7f380472fc70>"
            ]
          },
          "metadata": {},
          "execution_count": 142
        },
        {
          "output_type": "execute_result",
          "data": {
            "text/plain": [
              "<matplotlib.collections.PathCollection at 0x7f380473e4f0>"
            ]
          },
          "metadata": {},
          "execution_count": 142
        },
        {
          "output_type": "execute_result",
          "data": {
            "text/plain": [
              "<matplotlib.collections.PathCollection at 0x7f380473e940>"
            ]
          },
          "metadata": {},
          "execution_count": 142
        },
        {
          "output_type": "display_data",
          "data": {
            "text/plain": [
              "<Figure size 1000x600 with 1 Axes>"
            ],
            "image/png": "[encoded data removed]"
          },
          "metadata": {}
        }
      ]
    },
    {
      "cell_type": "code",
      "source": [
        "ecipercentile90th=t_residuals.eci_2018.quantile(0.9)\n",
        "ecipercentile90th"
      ],
      "metadata": {
        "colab": {
          "base_uri": "https://localhost:8080/"
        },
        "id": "A2qF4zp_-VwJ",
        "outputId": "8e07d623-756b-4d17-9db1-b8090161ff73"
      },
      "execution_count": null,
      "outputs": [
        {
          "output_type": "execute_result",
          "data": {
            "text/plain": [
              "1.3065402074579449"
            ]
          },
          "metadata": {},
          "execution_count": 143
        }
      ]
    }
  ],
  "metadata": {
    "kernelspec": {
      "display_name": "Python 3",
      "language": "python",
      "name": "python3"
    },
    "language_info": {
      "codemirror_mode": {
        "name": "ipython",
        "version": 3
      },
      "file_extension": ".py",
      "mimetype": "text/x-python",
      "name": "python",
      "nbconvert_exporter": "python",
      "pygments_lexer": "ipython3",
      "version": "3.10.4"
    },
    "orig_nbformat": 4,
    "vscode": {
      "interpreter": {
        "hash": "3ad933181bd8a04b432d3370b9dc3b0662ad032c4dfaa4e4f1596c548f763858"
      }
    },
    "colab": {
      "provenance": [],
      "collapsed_sections": [
        "RqlW_TtS2ii9",
        "B8TiYs_WWeL-",
        "3L0OsKJF1eq8",
        "GSE61snGMhNl",
        "7lQWZRtYh5MM",
        "O2XfV8ubOODx",
        "HwdOqH20My8R",
        "g10AkQuIRmB-"
      ],
      "toc_visible": true,
      "include_colab_link": true
    }
  },
  "nbformat": 4,
  "nbformat_minor": 0
}